{
  "nbformat": 4,
  "nbformat_minor": 0,
  "metadata": {
    "kernelspec": {
      "display_name": "Python 3",
      "language": "python",
      "name": "python3"
    },
    "language_info": {
      "codemirror_mode": {
        "name": "ipython",
        "version": 3
      },
      "file_extension": ".py",
      "mimetype": "text/x-python",
      "name": "python",
      "nbconvert_exporter": "python",
      "pygments_lexer": "ipython3",
      "version": "3.8.5"
    },
    "colab": {
      "name": "Final.ipynb",
      "provenance": []
    }
  },
  "cells": [
    {
      "cell_type": "code",
      "metadata": {
        "id": "3aAa7yV1z73l"
      },
      "source": [
        "import pandas as pd\n",
        "import numpy as np\n",
        "import matplotlib.pyplot as plt"
      ],
      "execution_count": null,
      "outputs": []
    },
    {
      "cell_type": "code",
      "metadata": {
        "id": "DdCYAqymz73t"
      },
      "source": [
        "data1 =  pd.read_csv('afghanistan-natural-disaster-incidents-from-1-january-to-31-dec-2016.csv')\n",
        "data2 = pd.read_csv('afghanistan-natural-disaster-incidents-from-1-january-to-31-december-2017.csv')\n",
        "data3 = pd.read_csv('afghanistan-natural-disaster-incidents-from-january-to-december-2018.csv')\n",
        "data4 = pd.read_csv('afghanistan-natural-disaster-incidents-from-january-to-december-2019.csv')\n",
        "data5 = pd.read_csv('afghanistan-natural-disaster-incidents-from-january-to-december-2020.csv')"
      ],
      "execution_count": null,
      "outputs": []
    },
    {
      "cell_type": "code",
      "metadata": {
        "id": "gurJgsfiz73v",
        "outputId": "9ec84255-e025-493a-847f-3d8e36e46fd3"
      },
      "source": [
        "data1.columns"
      ],
      "execution_count": null,
      "outputs": [
        {
          "output_type": "execute_result",
          "data": {
            "text/plain": [
              "Index(['REGION', 'PROV_CODE', 'PROV_NAME', 'DIST_CODE', 'DIST_NAME',\n",
              "       'INC_DATE', 'INC_TYPE', 'Persons_killed', 'Persons_injured',\n",
              "       'Individuals_affected', 'Families_affected', 'Houses_damaged',\n",
              "       'Houses_destroyed'],\n",
              "      dtype='object')"
            ]
          },
          "metadata": {
            "tags": []
          },
          "execution_count": 3
        }
      ]
    },
    {
      "cell_type": "code",
      "metadata": {
        "id": "Zpf4XFYcz73y",
        "outputId": "9c6fd683-c1f5-40c3-9a04-bcfa526657fa"
      },
      "source": [
        "data2.columns"
      ],
      "execution_count": null,
      "outputs": [
        {
          "output_type": "execute_result",
          "data": {
            "text/plain": [
              "Index(['REGION', 'PROV_CODE', 'PROV_NAME', 'DIST_CODE', 'DIST_NAME',\n",
              "       'INC_DATE', 'INC_TYPE', 'Persons_killed', 'Persons_injured',\n",
              "       'Individuals_affected', 'Families_affected', 'Houses_damaged',\n",
              "       'Houses_destroyed'],\n",
              "      dtype='object')"
            ]
          },
          "metadata": {
            "tags": []
          },
          "execution_count": 4
        }
      ]
    },
    {
      "cell_type": "code",
      "metadata": {
        "id": "ESj2ydgFz73z",
        "outputId": "33ee773a-a688-469e-80c8-90f8b35ddc66"
      },
      "source": [
        "data3.columns"
      ],
      "execution_count": null,
      "outputs": [
        {
          "output_type": "execute_result",
          "data": {
            "text/plain": [
              "Index(['REGION', 'PROV_CODE', 'PROV_NAME', 'DIST_CODE', 'DIST_NAME',\n",
              "       'INC_DATE', 'INC_TYPE', 'Persons_killed', 'Persons_injured',\n",
              "       'Families_affected', 'Individuals_affected2', 'Houses_damaged',\n",
              "       'Houses_destroyed'],\n",
              "      dtype='object')"
            ]
          },
          "metadata": {
            "tags": []
          },
          "execution_count": 5
        }
      ]
    },
    {
      "cell_type": "code",
      "metadata": {
        "id": "H5n49vjHz730"
      },
      "source": [
        "tmp = data3.Families_affected\n",
        "data3.Families_affected = data3.Individuals_affected2\n",
        "data3.Individuals_affected2 = tmp\n",
        "data3.columns = data1.columns"
      ],
      "execution_count": null,
      "outputs": []
    },
    {
      "cell_type": "code",
      "metadata": {
        "id": "eW78-pJHz731",
        "outputId": "329d9e98-96b7-4f5e-d6f2-c87274045fb9"
      },
      "source": [
        "data4.columns"
      ],
      "execution_count": null,
      "outputs": [
        {
          "output_type": "execute_result",
          "data": {
            "text/plain": [
              "Index(['REGION', 'PROV_CODE', 'PROV_NAME', 'DIST_CODE', 'DIST_NAME',\n",
              "       'INC_DATE', 'INC_TYPE', 'Persons_killed', 'Persons_injured',\n",
              "       'Families_affected', 'Individuals_affected', 'Houses_damaged',\n",
              "       'Houses_destroyed'],\n",
              "      dtype='object')"
            ]
          },
          "metadata": {
            "tags": []
          },
          "execution_count": 7
        }
      ]
    },
    {
      "cell_type": "code",
      "metadata": {
        "id": "MfVgVIIJz732",
        "outputId": "00dc0dd4-7777-49f5-da6a-629d462e6012"
      },
      "source": [
        "data5.columns"
      ],
      "execution_count": null,
      "outputs": [
        {
          "output_type": "execute_result",
          "data": {
            "text/plain": [
              "Index(['REGION', 'PROV_CODE', 'PROV_NAME', 'DIST_CODE', 'DIST_NAME',\n",
              "       'INC_DATE', 'INC_TYPE', 'Persons_killed', 'Persons_injured',\n",
              "       'Families_affected', 'Individuals_affected', 'Houses_damaged',\n",
              "       'Houses_destroyed'],\n",
              "      dtype='object')"
            ]
          },
          "metadata": {
            "tags": []
          },
          "execution_count": 8
        }
      ]
    },
    {
      "cell_type": "code",
      "metadata": {
        "id": "Tqa8FKWoz732",
        "outputId": "ad2292bc-f88c-4ffc-87a6-7eff72e9d5ae"
      },
      "source": [
        "data = pd.concat([data1, data2, data3, data4, data5])\n",
        "data"
      ],
      "execution_count": null,
      "outputs": [
        {
          "output_type": "execute_result",
          "data": {
            "text/html": [
              "<div>\n",
              "<style scoped>\n",
              "    .dataframe tbody tr th:only-of-type {\n",
              "        vertical-align: middle;\n",
              "    }\n",
              "\n",
              "    .dataframe tbody tr th {\n",
              "        vertical-align: top;\n",
              "    }\n",
              "\n",
              "    .dataframe thead th {\n",
              "        text-align: right;\n",
              "    }\n",
              "</style>\n",
              "<table border=\"1\" class=\"dataframe\">\n",
              "  <thead>\n",
              "    <tr style=\"text-align: right;\">\n",
              "      <th></th>\n",
              "      <th>REGION</th>\n",
              "      <th>PROV_CODE</th>\n",
              "      <th>PROV_NAME</th>\n",
              "      <th>DIST_CODE</th>\n",
              "      <th>DIST_NAME</th>\n",
              "      <th>INC_DATE</th>\n",
              "      <th>INC_TYPE</th>\n",
              "      <th>Persons_killed</th>\n",
              "      <th>Persons_injured</th>\n",
              "      <th>Individuals_affected</th>\n",
              "      <th>Families_affected</th>\n",
              "      <th>Houses_damaged</th>\n",
              "      <th>Houses_destroyed</th>\n",
              "    </tr>\n",
              "  </thead>\n",
              "  <tbody>\n",
              "    <tr>\n",
              "      <th>0</th>\n",
              "      <td>Western</td>\n",
              "      <td>31</td>\n",
              "      <td>Farah</td>\n",
              "      <td>3101</td>\n",
              "      <td>Farah</td>\n",
              "      <td>11/03/2016</td>\n",
              "      <td>Flood / flash flood</td>\n",
              "      <td>18</td>\n",
              "      <td>9</td>\n",
              "      <td>996</td>\n",
              "      <td>150</td>\n",
              "      <td>88</td>\n",
              "      <td>32</td>\n",
              "    </tr>\n",
              "    <tr>\n",
              "      <th>1</th>\n",
              "      <td>Western</td>\n",
              "      <td>30</td>\n",
              "      <td>Hirat</td>\n",
              "      <td>3003</td>\n",
              "      <td>Kushk</td>\n",
              "      <td>11/03/2016</td>\n",
              "      <td>Flood / flash flood</td>\n",
              "      <td>0</td>\n",
              "      <td>0</td>\n",
              "      <td>169</td>\n",
              "      <td>21</td>\n",
              "      <td>21</td>\n",
              "      <td>0</td>\n",
              "    </tr>\n",
              "    <tr>\n",
              "      <th>2</th>\n",
              "      <td>Western</td>\n",
              "      <td>30</td>\n",
              "      <td>Hirat</td>\n",
              "      <td>3002</td>\n",
              "      <td>Injil</td>\n",
              "      <td>16/04/2016</td>\n",
              "      <td>Flood / flash flood</td>\n",
              "      <td>1</td>\n",
              "      <td>0</td>\n",
              "      <td>404</td>\n",
              "      <td>54</td>\n",
              "      <td>23</td>\n",
              "      <td>31</td>\n",
              "    </tr>\n",
              "    <tr>\n",
              "      <th>3</th>\n",
              "      <td>Western</td>\n",
              "      <td>30</td>\n",
              "      <td>Hirat</td>\n",
              "      <td>3005</td>\n",
              "      <td>Guzara</td>\n",
              "      <td>16/04/2016</td>\n",
              "      <td>Flood / flash flood</td>\n",
              "      <td>0</td>\n",
              "      <td>0</td>\n",
              "      <td>20</td>\n",
              "      <td>3</td>\n",
              "      <td>3</td>\n",
              "      <td>0</td>\n",
              "    </tr>\n",
              "    <tr>\n",
              "      <th>4</th>\n",
              "      <td>Western</td>\n",
              "      <td>30</td>\n",
              "      <td>Hirat</td>\n",
              "      <td>3005</td>\n",
              "      <td>Guzara</td>\n",
              "      <td>17/04/2016</td>\n",
              "      <td>Flood / flash flood</td>\n",
              "      <td>0</td>\n",
              "      <td>0</td>\n",
              "      <td>7</td>\n",
              "      <td>1</td>\n",
              "      <td>0</td>\n",
              "      <td>0</td>\n",
              "    </tr>\n",
              "    <tr>\n",
              "      <th>...</th>\n",
              "      <td>...</td>\n",
              "      <td>...</td>\n",
              "      <td>...</td>\n",
              "      <td>...</td>\n",
              "      <td>...</td>\n",
              "      <td>...</td>\n",
              "      <td>...</td>\n",
              "      <td>...</td>\n",
              "      <td>...</td>\n",
              "      <td>...</td>\n",
              "      <td>...</td>\n",
              "      <td>...</td>\n",
              "      <td>...</td>\n",
              "    </tr>\n",
              "    <tr>\n",
              "      <th>533</th>\n",
              "      <td>Southern</td>\n",
              "      <td>24</td>\n",
              "      <td>Zabul</td>\n",
              "      <td>2401</td>\n",
              "      <td>Qalat</td>\n",
              "      <td>13/11/2020</td>\n",
              "      <td>Flood / flash flood</td>\n",
              "      <td>0</td>\n",
              "      <td>0</td>\n",
              "      <td>21</td>\n",
              "      <td>3</td>\n",
              "      <td>3</td>\n",
              "      <td>0</td>\n",
              "    </tr>\n",
              "    <tr>\n",
              "      <th>534</th>\n",
              "      <td>Eastern</td>\n",
              "      <td>7</td>\n",
              "      <td>Laghman</td>\n",
              "      <td>701</td>\n",
              "      <td>Mehtarlam</td>\n",
              "      <td>15/11/2020</td>\n",
              "      <td>Flood / flash flood</td>\n",
              "      <td>0</td>\n",
              "      <td>0</td>\n",
              "      <td>77</td>\n",
              "      <td>11</td>\n",
              "      <td>10</td>\n",
              "      <td>1</td>\n",
              "    </tr>\n",
              "    <tr>\n",
              "      <th>535</th>\n",
              "      <td>Eastern</td>\n",
              "      <td>13</td>\n",
              "      <td>Kunar</td>\n",
              "      <td>1301</td>\n",
              "      <td>Asadabad</td>\n",
              "      <td>20/11/2020</td>\n",
              "      <td>Flood / flash flood</td>\n",
              "      <td>0</td>\n",
              "      <td>0</td>\n",
              "      <td>21</td>\n",
              "      <td>3</td>\n",
              "      <td>3</td>\n",
              "      <td>0</td>\n",
              "    </tr>\n",
              "    <tr>\n",
              "      <th>536</th>\n",
              "      <td>Eastern</td>\n",
              "      <td>13</td>\n",
              "      <td>Kunar</td>\n",
              "      <td>1305</td>\n",
              "      <td>Marawara</td>\n",
              "      <td>20/11/2020</td>\n",
              "      <td>Flood / flash flood</td>\n",
              "      <td>0</td>\n",
              "      <td>0</td>\n",
              "      <td>42</td>\n",
              "      <td>6</td>\n",
              "      <td>6</td>\n",
              "      <td>0</td>\n",
              "    </tr>\n",
              "    <tr>\n",
              "      <th>537</th>\n",
              "      <td>Eastern</td>\n",
              "      <td>13</td>\n",
              "      <td>Kunar</td>\n",
              "      <td>1305</td>\n",
              "      <td>Marawara</td>\n",
              "      <td>20/11/2020</td>\n",
              "      <td>Flood / flash flood</td>\n",
              "      <td>0</td>\n",
              "      <td>0</td>\n",
              "      <td>42</td>\n",
              "      <td>6</td>\n",
              "      <td>6</td>\n",
              "      <td>0</td>\n",
              "    </tr>\n",
              "  </tbody>\n",
              "</table>\n",
              "<p>2087 rows × 13 columns</p>\n",
              "</div>"
            ],
            "text/plain": [
              "       REGION  PROV_CODE PROV_NAME  DIST_CODE  DIST_NAME    INC_DATE  \\\n",
              "0     Western         31     Farah       3101      Farah  11/03/2016   \n",
              "1     Western         30     Hirat       3003      Kushk  11/03/2016   \n",
              "2     Western         30     Hirat       3002      Injil  16/04/2016   \n",
              "3     Western         30     Hirat       3005     Guzara  16/04/2016   \n",
              "4     Western         30     Hirat       3005     Guzara  17/04/2016   \n",
              "..        ...        ...       ...        ...        ...         ...   \n",
              "533  Southern         24     Zabul       2401      Qalat  13/11/2020   \n",
              "534   Eastern          7   Laghman        701  Mehtarlam  15/11/2020   \n",
              "535   Eastern         13     Kunar       1301   Asadabad  20/11/2020   \n",
              "536   Eastern         13     Kunar       1305   Marawara  20/11/2020   \n",
              "537   Eastern         13     Kunar       1305   Marawara  20/11/2020   \n",
              "\n",
              "                INC_TYPE  Persons_killed  Persons_injured  \\\n",
              "0    Flood / flash flood              18                9   \n",
              "1    Flood / flash flood               0                0   \n",
              "2    Flood / flash flood               1                0   \n",
              "3    Flood / flash flood               0                0   \n",
              "4    Flood / flash flood               0                0   \n",
              "..                   ...             ...              ...   \n",
              "533  Flood / flash flood               0                0   \n",
              "534  Flood / flash flood               0                0   \n",
              "535  Flood / flash flood               0                0   \n",
              "536  Flood / flash flood               0                0   \n",
              "537  Flood / flash flood               0                0   \n",
              "\n",
              "     Individuals_affected  Families_affected  Houses_damaged  Houses_destroyed  \n",
              "0                     996                150              88                32  \n",
              "1                     169                 21              21                 0  \n",
              "2                     404                 54              23                31  \n",
              "3                      20                  3               3                 0  \n",
              "4                       7                  1               0                 0  \n",
              "..                    ...                ...             ...               ...  \n",
              "533                    21                  3               3                 0  \n",
              "534                    77                 11              10                 1  \n",
              "535                    21                  3               3                 0  \n",
              "536                    42                  6               6                 0  \n",
              "537                    42                  6               6                 0  \n",
              "\n",
              "[2087 rows x 13 columns]"
            ]
          },
          "metadata": {
            "tags": []
          },
          "execution_count": 9
        }
      ]
    },
    {
      "cell_type": "code",
      "metadata": {
        "id": "ZsUCT4DZz733",
        "outputId": "08dcac4b-b895-466c-9a68-0b6e6cda8408"
      },
      "source": [
        "data.info()"
      ],
      "execution_count": null,
      "outputs": [
        {
          "output_type": "stream",
          "text": [
            "<class 'pandas.core.frame.DataFrame'>\n",
            "Int64Index: 2087 entries, 0 to 537\n",
            "Data columns (total 13 columns):\n",
            " #   Column                Non-Null Count  Dtype \n",
            "---  ------                --------------  ----- \n",
            " 0   REGION                2087 non-null   object\n",
            " 1   PROV_CODE             2087 non-null   int64 \n",
            " 2   PROV_NAME             2087 non-null   object\n",
            " 3   DIST_CODE             2087 non-null   int64 \n",
            " 4   DIST_NAME             2087 non-null   object\n",
            " 5   INC_DATE              2087 non-null   object\n",
            " 6   INC_TYPE              2087 non-null   object\n",
            " 7   Persons_killed        2087 non-null   int64 \n",
            " 8   Persons_injured       2087 non-null   int64 \n",
            " 9   Individuals_affected  2087 non-null   int64 \n",
            " 10  Families_affected     2087 non-null   int64 \n",
            " 11  Houses_damaged        2087 non-null   int64 \n",
            " 12  Houses_destroyed      2087 non-null   int64 \n",
            "dtypes: int64(8), object(5)\n",
            "memory usage: 228.3+ KB\n"
          ],
          "name": "stdout"
        }
      ]
    },
    {
      "cell_type": "code",
      "metadata": {
        "id": "PRP5rKdaz734",
        "outputId": "abd4a2f9-bfcb-49de-dbeb-3796310b60ac"
      },
      "source": [
        "data.describe(include = 'all')"
      ],
      "execution_count": null,
      "outputs": [
        {
          "output_type": "execute_result",
          "data": {
            "text/html": [
              "<div>\n",
              "<style scoped>\n",
              "    .dataframe tbody tr th:only-of-type {\n",
              "        vertical-align: middle;\n",
              "    }\n",
              "\n",
              "    .dataframe tbody tr th {\n",
              "        vertical-align: top;\n",
              "    }\n",
              "\n",
              "    .dataframe thead th {\n",
              "        text-align: right;\n",
              "    }\n",
              "</style>\n",
              "<table border=\"1\" class=\"dataframe\">\n",
              "  <thead>\n",
              "    <tr style=\"text-align: right;\">\n",
              "      <th></th>\n",
              "      <th>REGION</th>\n",
              "      <th>PROV_CODE</th>\n",
              "      <th>PROV_NAME</th>\n",
              "      <th>DIST_CODE</th>\n",
              "      <th>DIST_NAME</th>\n",
              "      <th>INC_DATE</th>\n",
              "      <th>INC_TYPE</th>\n",
              "      <th>Persons_killed</th>\n",
              "      <th>Persons_injured</th>\n",
              "      <th>Individuals_affected</th>\n",
              "      <th>Families_affected</th>\n",
              "      <th>Houses_damaged</th>\n",
              "      <th>Houses_destroyed</th>\n",
              "    </tr>\n",
              "  </thead>\n",
              "  <tbody>\n",
              "    <tr>\n",
              "      <th>count</th>\n",
              "      <td>2087</td>\n",
              "      <td>2087.000000</td>\n",
              "      <td>2087</td>\n",
              "      <td>2087.000000</td>\n",
              "      <td>2087</td>\n",
              "      <td>2087</td>\n",
              "      <td>2087</td>\n",
              "      <td>2087.000000</td>\n",
              "      <td>2087.000000</td>\n",
              "      <td>2087.000000</td>\n",
              "      <td>2087.000000</td>\n",
              "      <td>2087.000000</td>\n",
              "      <td>2087.000000</td>\n",
              "    </tr>\n",
              "    <tr>\n",
              "      <th>unique</th>\n",
              "      <td>8</td>\n",
              "      <td>NaN</td>\n",
              "      <td>34</td>\n",
              "      <td>NaN</td>\n",
              "      <td>322</td>\n",
              "      <td>416</td>\n",
              "      <td>6</td>\n",
              "      <td>NaN</td>\n",
              "      <td>NaN</td>\n",
              "      <td>NaN</td>\n",
              "      <td>NaN</td>\n",
              "      <td>NaN</td>\n",
              "      <td>NaN</td>\n",
              "    </tr>\n",
              "    <tr>\n",
              "      <th>top</th>\n",
              "      <td>Eastern</td>\n",
              "      <td>NaN</td>\n",
              "      <td>Kunar</td>\n",
              "      <td>NaN</td>\n",
              "      <td>Mehtarlam</td>\n",
              "      <td>04/02/2017</td>\n",
              "      <td>Flood / flash flood</td>\n",
              "      <td>NaN</td>\n",
              "      <td>NaN</td>\n",
              "      <td>NaN</td>\n",
              "      <td>NaN</td>\n",
              "      <td>NaN</td>\n",
              "      <td>NaN</td>\n",
              "    </tr>\n",
              "    <tr>\n",
              "      <th>freq</th>\n",
              "      <td>653</td>\n",
              "      <td>NaN</td>\n",
              "      <td>357</td>\n",
              "      <td>NaN</td>\n",
              "      <td>63</td>\n",
              "      <td>84</td>\n",
              "      <td>1741</td>\n",
              "      <td>NaN</td>\n",
              "      <td>NaN</td>\n",
              "      <td>NaN</td>\n",
              "      <td>NaN</td>\n",
              "      <td>NaN</td>\n",
              "      <td>NaN</td>\n",
              "    </tr>\n",
              "    <tr>\n",
              "      <th>mean</th>\n",
              "      <td>NaN</td>\n",
              "      <td>15.298035</td>\n",
              "      <td>NaN</td>\n",
              "      <td>1535.271682</td>\n",
              "      <td>NaN</td>\n",
              "      <td>NaN</td>\n",
              "      <td>NaN</td>\n",
              "      <td>0.362722</td>\n",
              "      <td>0.326785</td>\n",
              "      <td>296.042645</td>\n",
              "      <td>76.119310</td>\n",
              "      <td>24.890273</td>\n",
              "      <td>11.899377</td>\n",
              "    </tr>\n",
              "    <tr>\n",
              "      <th>std</th>\n",
              "      <td>NaN</td>\n",
              "      <td>8.894034</td>\n",
              "      <td>NaN</td>\n",
              "      <td>889.269792</td>\n",
              "      <td>NaN</td>\n",
              "      <td>NaN</td>\n",
              "      <td>NaN</td>\n",
              "      <td>3.238404</td>\n",
              "      <td>3.598839</td>\n",
              "      <td>896.243520</td>\n",
              "      <td>394.551163</td>\n",
              "      <td>92.653547</td>\n",
              "      <td>50.059403</td>\n",
              "    </tr>\n",
              "    <tr>\n",
              "      <th>min</th>\n",
              "      <td>NaN</td>\n",
              "      <td>1.000000</td>\n",
              "      <td>NaN</td>\n",
              "      <td>101.000000</td>\n",
              "      <td>NaN</td>\n",
              "      <td>NaN</td>\n",
              "      <td>NaN</td>\n",
              "      <td>0.000000</td>\n",
              "      <td>0.000000</td>\n",
              "      <td>0.000000</td>\n",
              "      <td>0.000000</td>\n",
              "      <td>0.000000</td>\n",
              "      <td>0.000000</td>\n",
              "    </tr>\n",
              "    <tr>\n",
              "      <th>25%</th>\n",
              "      <td>NaN</td>\n",
              "      <td>9.000000</td>\n",
              "      <td>NaN</td>\n",
              "      <td>907.000000</td>\n",
              "      <td>NaN</td>\n",
              "      <td>NaN</td>\n",
              "      <td>NaN</td>\n",
              "      <td>0.000000</td>\n",
              "      <td>0.000000</td>\n",
              "      <td>17.000000</td>\n",
              "      <td>3.000000</td>\n",
              "      <td>0.000000</td>\n",
              "      <td>0.000000</td>\n",
              "    </tr>\n",
              "    <tr>\n",
              "      <th>50%</th>\n",
              "      <td>NaN</td>\n",
              "      <td>13.000000</td>\n",
              "      <td>NaN</td>\n",
              "      <td>1308.000000</td>\n",
              "      <td>NaN</td>\n",
              "      <td>NaN</td>\n",
              "      <td>NaN</td>\n",
              "      <td>0.000000</td>\n",
              "      <td>0.000000</td>\n",
              "      <td>60.000000</td>\n",
              "      <td>10.000000</td>\n",
              "      <td>5.000000</td>\n",
              "      <td>0.000000</td>\n",
              "    </tr>\n",
              "    <tr>\n",
              "      <th>75%</th>\n",
              "      <td>NaN</td>\n",
              "      <td>22.000000</td>\n",
              "      <td>NaN</td>\n",
              "      <td>2204.000000</td>\n",
              "      <td>NaN</td>\n",
              "      <td>NaN</td>\n",
              "      <td>NaN</td>\n",
              "      <td>0.000000</td>\n",
              "      <td>0.000000</td>\n",
              "      <td>182.000000</td>\n",
              "      <td>35.000000</td>\n",
              "      <td>16.000000</td>\n",
              "      <td>3.000000</td>\n",
              "    </tr>\n",
              "    <tr>\n",
              "      <th>max</th>\n",
              "      <td>NaN</td>\n",
              "      <td>34.000000</td>\n",
              "      <td>NaN</td>\n",
              "      <td>3405.000000</td>\n",
              "      <td>NaN</td>\n",
              "      <td>NaN</td>\n",
              "      <td>NaN</td>\n",
              "      <td>120.000000</td>\n",
              "      <td>140.000000</td>\n",
              "      <td>17633.000000</td>\n",
              "      <td>13489.000000</td>\n",
              "      <td>1780.000000</td>\n",
              "      <td>870.000000</td>\n",
              "    </tr>\n",
              "  </tbody>\n",
              "</table>\n",
              "</div>"
            ],
            "text/plain": [
              "         REGION    PROV_CODE PROV_NAME    DIST_CODE  DIST_NAME    INC_DATE  \\\n",
              "count      2087  2087.000000      2087  2087.000000       2087        2087   \n",
              "unique        8          NaN        34          NaN        322         416   \n",
              "top     Eastern          NaN     Kunar          NaN  Mehtarlam  04/02/2017   \n",
              "freq        653          NaN       357          NaN         63          84   \n",
              "mean        NaN    15.298035       NaN  1535.271682        NaN         NaN   \n",
              "std         NaN     8.894034       NaN   889.269792        NaN         NaN   \n",
              "min         NaN     1.000000       NaN   101.000000        NaN         NaN   \n",
              "25%         NaN     9.000000       NaN   907.000000        NaN         NaN   \n",
              "50%         NaN    13.000000       NaN  1308.000000        NaN         NaN   \n",
              "75%         NaN    22.000000       NaN  2204.000000        NaN         NaN   \n",
              "max         NaN    34.000000       NaN  3405.000000        NaN         NaN   \n",
              "\n",
              "                   INC_TYPE  Persons_killed  Persons_injured  \\\n",
              "count                  2087     2087.000000      2087.000000   \n",
              "unique                    6             NaN              NaN   \n",
              "top     Flood / flash flood             NaN              NaN   \n",
              "freq                   1741             NaN              NaN   \n",
              "mean                    NaN        0.362722         0.326785   \n",
              "std                     NaN        3.238404         3.598839   \n",
              "min                     NaN        0.000000         0.000000   \n",
              "25%                     NaN        0.000000         0.000000   \n",
              "50%                     NaN        0.000000         0.000000   \n",
              "75%                     NaN        0.000000         0.000000   \n",
              "max                     NaN      120.000000       140.000000   \n",
              "\n",
              "        Individuals_affected  Families_affected  Houses_damaged  \\\n",
              "count            2087.000000        2087.000000     2087.000000   \n",
              "unique                   NaN                NaN             NaN   \n",
              "top                      NaN                NaN             NaN   \n",
              "freq                     NaN                NaN             NaN   \n",
              "mean              296.042645          76.119310       24.890273   \n",
              "std               896.243520         394.551163       92.653547   \n",
              "min                 0.000000           0.000000        0.000000   \n",
              "25%                17.000000           3.000000        0.000000   \n",
              "50%                60.000000          10.000000        5.000000   \n",
              "75%               182.000000          35.000000       16.000000   \n",
              "max             17633.000000       13489.000000     1780.000000   \n",
              "\n",
              "        Houses_destroyed  \n",
              "count        2087.000000  \n",
              "unique               NaN  \n",
              "top                  NaN  \n",
              "freq                 NaN  \n",
              "mean           11.899377  \n",
              "std            50.059403  \n",
              "min             0.000000  \n",
              "25%             0.000000  \n",
              "50%             0.000000  \n",
              "75%             3.000000  \n",
              "max           870.000000  "
            ]
          },
          "metadata": {
            "tags": []
          },
          "execution_count": 11
        }
      ]
    },
    {
      "cell_type": "code",
      "metadata": {
        "id": "LUnC1tjaz736"
      },
      "source": [
        "data.to_csv('afghanistan-natural-disaster-incidents-from-january-2016-to-december-2020.csv',index = False)"
      ],
      "execution_count": null,
      "outputs": []
    },
    {
      "cell_type": "code",
      "metadata": {
        "id": "wFe2Rf0Xz736",
        "outputId": "d72c7cea-2825-42ab-fd5c-ad67ed1168f9"
      },
      "source": [
        "data = data.drop(['PROV_CODE','DIST_CODE'], axis =1 )\n",
        "data.head()"
      ],
      "execution_count": null,
      "outputs": [
        {
          "output_type": "execute_result",
          "data": {
            "text/html": [
              "<div>\n",
              "<style scoped>\n",
              "    .dataframe tbody tr th:only-of-type {\n",
              "        vertical-align: middle;\n",
              "    }\n",
              "\n",
              "    .dataframe tbody tr th {\n",
              "        vertical-align: top;\n",
              "    }\n",
              "\n",
              "    .dataframe thead th {\n",
              "        text-align: right;\n",
              "    }\n",
              "</style>\n",
              "<table border=\"1\" class=\"dataframe\">\n",
              "  <thead>\n",
              "    <tr style=\"text-align: right;\">\n",
              "      <th></th>\n",
              "      <th>REGION</th>\n",
              "      <th>PROV_NAME</th>\n",
              "      <th>DIST_NAME</th>\n",
              "      <th>INC_DATE</th>\n",
              "      <th>INC_TYPE</th>\n",
              "      <th>Persons_killed</th>\n",
              "      <th>Persons_injured</th>\n",
              "      <th>Individuals_affected</th>\n",
              "      <th>Families_affected</th>\n",
              "      <th>Houses_damaged</th>\n",
              "      <th>Houses_destroyed</th>\n",
              "    </tr>\n",
              "  </thead>\n",
              "  <tbody>\n",
              "    <tr>\n",
              "      <th>0</th>\n",
              "      <td>Western</td>\n",
              "      <td>Farah</td>\n",
              "      <td>Farah</td>\n",
              "      <td>11/03/2016</td>\n",
              "      <td>Flood / flash flood</td>\n",
              "      <td>18</td>\n",
              "      <td>9</td>\n",
              "      <td>996</td>\n",
              "      <td>150</td>\n",
              "      <td>88</td>\n",
              "      <td>32</td>\n",
              "    </tr>\n",
              "    <tr>\n",
              "      <th>1</th>\n",
              "      <td>Western</td>\n",
              "      <td>Hirat</td>\n",
              "      <td>Kushk</td>\n",
              "      <td>11/03/2016</td>\n",
              "      <td>Flood / flash flood</td>\n",
              "      <td>0</td>\n",
              "      <td>0</td>\n",
              "      <td>169</td>\n",
              "      <td>21</td>\n",
              "      <td>21</td>\n",
              "      <td>0</td>\n",
              "    </tr>\n",
              "    <tr>\n",
              "      <th>2</th>\n",
              "      <td>Western</td>\n",
              "      <td>Hirat</td>\n",
              "      <td>Injil</td>\n",
              "      <td>16/04/2016</td>\n",
              "      <td>Flood / flash flood</td>\n",
              "      <td>1</td>\n",
              "      <td>0</td>\n",
              "      <td>404</td>\n",
              "      <td>54</td>\n",
              "      <td>23</td>\n",
              "      <td>31</td>\n",
              "    </tr>\n",
              "    <tr>\n",
              "      <th>3</th>\n",
              "      <td>Western</td>\n",
              "      <td>Hirat</td>\n",
              "      <td>Guzara</td>\n",
              "      <td>16/04/2016</td>\n",
              "      <td>Flood / flash flood</td>\n",
              "      <td>0</td>\n",
              "      <td>0</td>\n",
              "      <td>20</td>\n",
              "      <td>3</td>\n",
              "      <td>3</td>\n",
              "      <td>0</td>\n",
              "    </tr>\n",
              "    <tr>\n",
              "      <th>4</th>\n",
              "      <td>Western</td>\n",
              "      <td>Hirat</td>\n",
              "      <td>Guzara</td>\n",
              "      <td>17/04/2016</td>\n",
              "      <td>Flood / flash flood</td>\n",
              "      <td>0</td>\n",
              "      <td>0</td>\n",
              "      <td>7</td>\n",
              "      <td>1</td>\n",
              "      <td>0</td>\n",
              "      <td>0</td>\n",
              "    </tr>\n",
              "  </tbody>\n",
              "</table>\n",
              "</div>"
            ],
            "text/plain": [
              "    REGION PROV_NAME DIST_NAME    INC_DATE             INC_TYPE  \\\n",
              "0  Western     Farah     Farah  11/03/2016  Flood / flash flood   \n",
              "1  Western     Hirat     Kushk  11/03/2016  Flood / flash flood   \n",
              "2  Western     Hirat     Injil  16/04/2016  Flood / flash flood   \n",
              "3  Western     Hirat    Guzara  16/04/2016  Flood / flash flood   \n",
              "4  Western     Hirat    Guzara  17/04/2016  Flood / flash flood   \n",
              "\n",
              "   Persons_killed  Persons_injured  Individuals_affected  Families_affected  \\\n",
              "0              18                9                   996                150   \n",
              "1               0                0                   169                 21   \n",
              "2               1                0                   404                 54   \n",
              "3               0                0                    20                  3   \n",
              "4               0                0                     7                  1   \n",
              "\n",
              "   Houses_damaged  Houses_destroyed  \n",
              "0              88                32  \n",
              "1              21                 0  \n",
              "2              23                31  \n",
              "3               3                 0  \n",
              "4               0                 0  "
            ]
          },
          "metadata": {
            "tags": []
          },
          "execution_count": 13
        }
      ]
    },
    {
      "cell_type": "markdown",
      "metadata": {
        "id": "yxZ23YiJz737"
      },
      "source": [
        "### Which disaster occurs the most ?"
      ]
    },
    {
      "cell_type": "code",
      "metadata": {
        "id": "20ysOU4Gz737",
        "outputId": "141a6120-d523-428b-ba25-8757cdb4b667"
      },
      "source": [
        "dis_type = data.groupby('INC_TYPE')['INC_TYPE'].agg(['count']).sort_values( by = 'count', ascending=False)\n",
        "dis_type"
      ],
      "execution_count": null,
      "outputs": [
        {
          "output_type": "execute_result",
          "data": {
            "text/html": [
              "<div>\n",
              "<style scoped>\n",
              "    .dataframe tbody tr th:only-of-type {\n",
              "        vertical-align: middle;\n",
              "    }\n",
              "\n",
              "    .dataframe tbody tr th {\n",
              "        vertical-align: top;\n",
              "    }\n",
              "\n",
              "    .dataframe thead th {\n",
              "        text-align: right;\n",
              "    }\n",
              "</style>\n",
              "<table border=\"1\" class=\"dataframe\">\n",
              "  <thead>\n",
              "    <tr style=\"text-align: right;\">\n",
              "      <th></th>\n",
              "      <th>count</th>\n",
              "    </tr>\n",
              "    <tr>\n",
              "      <th>INC_TYPE</th>\n",
              "      <th></th>\n",
              "    </tr>\n",
              "  </thead>\n",
              "  <tbody>\n",
              "    <tr>\n",
              "      <th>Flood / flash flood</th>\n",
              "      <td>1741</td>\n",
              "    </tr>\n",
              "    <tr>\n",
              "      <th>Heavy snowfall</th>\n",
              "      <td>218</td>\n",
              "    </tr>\n",
              "    <tr>\n",
              "      <th>Avalanche</th>\n",
              "      <td>48</td>\n",
              "    </tr>\n",
              "    <tr>\n",
              "      <th>Landslide / mudflow</th>\n",
              "      <td>37</td>\n",
              "    </tr>\n",
              "    <tr>\n",
              "      <th>Earthquake</th>\n",
              "      <td>33</td>\n",
              "    </tr>\n",
              "    <tr>\n",
              "      <th>Remove</th>\n",
              "      <td>10</td>\n",
              "    </tr>\n",
              "  </tbody>\n",
              "</table>\n",
              "</div>"
            ],
            "text/plain": [
              "                     count\n",
              "INC_TYPE                  \n",
              "Flood / flash flood   1741\n",
              "Heavy snowfall         218\n",
              "Avalanche               48\n",
              "Landslide / mudflow     37\n",
              "Earthquake              33\n",
              "Remove                  10"
            ]
          },
          "metadata": {
            "tags": []
          },
          "execution_count": 41
        }
      ]
    },
    {
      "cell_type": "markdown",
      "metadata": {
        "id": "2Y-tQgYLz737"
      },
      "source": [
        "    Inferences: Flood is the common one"
      ]
    },
    {
      "cell_type": "code",
      "metadata": {
        "id": "F7e_1A3yz738",
        "outputId": "7c104de9-11a9-422c-e2fe-278913380973"
      },
      "source": [
        "flood = data[data.INC_TYPE == 'Flood / flash flood']\n",
        "flood_region = flood.groupby('REGION')['REGION'].agg(['count']).sort_values( by = 'count', ascending=False)\n",
        "flood_region"
      ],
      "execution_count": null,
      "outputs": [
        {
          "output_type": "execute_result",
          "data": {
            "text/html": [
              "<div>\n",
              "<style scoped>\n",
              "    .dataframe tbody tr th:only-of-type {\n",
              "        vertical-align: middle;\n",
              "    }\n",
              "\n",
              "    .dataframe tbody tr th {\n",
              "        vertical-align: top;\n",
              "    }\n",
              "\n",
              "    .dataframe thead th {\n",
              "        text-align: right;\n",
              "    }\n",
              "</style>\n",
              "<table border=\"1\" class=\"dataframe\">\n",
              "  <thead>\n",
              "    <tr style=\"text-align: right;\">\n",
              "      <th></th>\n",
              "      <th>count</th>\n",
              "    </tr>\n",
              "    <tr>\n",
              "      <th>REGION</th>\n",
              "      <th></th>\n",
              "    </tr>\n",
              "  </thead>\n",
              "  <tbody>\n",
              "    <tr>\n",
              "      <th>Eastern</th>\n",
              "      <td>617</td>\n",
              "    </tr>\n",
              "    <tr>\n",
              "      <th>Western</th>\n",
              "      <td>251</td>\n",
              "    </tr>\n",
              "    <tr>\n",
              "      <th>North Eastern</th>\n",
              "      <td>190</td>\n",
              "    </tr>\n",
              "    <tr>\n",
              "      <th>Capital</th>\n",
              "      <td>179</td>\n",
              "    </tr>\n",
              "    <tr>\n",
              "      <th>Central Highland</th>\n",
              "      <td>168</td>\n",
              "    </tr>\n",
              "    <tr>\n",
              "      <th>South Eastern</th>\n",
              "      <td>132</td>\n",
              "    </tr>\n",
              "    <tr>\n",
              "      <th>Northern</th>\n",
              "      <td>121</td>\n",
              "    </tr>\n",
              "    <tr>\n",
              "      <th>Southern</th>\n",
              "      <td>83</td>\n",
              "    </tr>\n",
              "  </tbody>\n",
              "</table>\n",
              "</div>"
            ],
            "text/plain": [
              "                  count\n",
              "REGION                 \n",
              "Eastern             617\n",
              "Western             251\n",
              "North Eastern       190\n",
              "Capital             179\n",
              "Central Highland    168\n",
              "South Eastern       132\n",
              "Northern            121\n",
              "Southern             83"
            ]
          },
          "metadata": {
            "tags": []
          },
          "execution_count": 15
        }
      ]
    },
    {
      "cell_type": "code",
      "metadata": {
        "id": "M4Y6ktIyz738",
        "outputId": "4605d960-9324-4cac-e621-29d5ec7234c5"
      },
      "source": [
        "flood_eastern = flood[flood.REGION == 'Eastern'].reset_index(drop = True)\n",
        "flood_eastern.describe()"
      ],
      "execution_count": null,
      "outputs": [
        {
          "output_type": "execute_result",
          "data": {
            "text/html": [
              "<div>\n",
              "<style scoped>\n",
              "    .dataframe tbody tr th:only-of-type {\n",
              "        vertical-align: middle;\n",
              "    }\n",
              "\n",
              "    .dataframe tbody tr th {\n",
              "        vertical-align: top;\n",
              "    }\n",
              "\n",
              "    .dataframe thead th {\n",
              "        text-align: right;\n",
              "    }\n",
              "</style>\n",
              "<table border=\"1\" class=\"dataframe\">\n",
              "  <thead>\n",
              "    <tr style=\"text-align: right;\">\n",
              "      <th></th>\n",
              "      <th>Persons_killed</th>\n",
              "      <th>Persons_injured</th>\n",
              "      <th>Individuals_affected</th>\n",
              "      <th>Families_affected</th>\n",
              "      <th>Houses_damaged</th>\n",
              "      <th>Houses_destroyed</th>\n",
              "    </tr>\n",
              "  </thead>\n",
              "  <tbody>\n",
              "    <tr>\n",
              "      <th>count</th>\n",
              "      <td>617.000000</td>\n",
              "      <td>617.000000</td>\n",
              "      <td>617.000000</td>\n",
              "      <td>617.000000</td>\n",
              "      <td>617.000000</td>\n",
              "      <td>617.000000</td>\n",
              "    </tr>\n",
              "    <tr>\n",
              "      <th>mean</th>\n",
              "      <td>0.149109</td>\n",
              "      <td>0.184765</td>\n",
              "      <td>76.063209</td>\n",
              "      <td>23.581848</td>\n",
              "      <td>9.649919</td>\n",
              "      <td>1.106969</td>\n",
              "    </tr>\n",
              "    <tr>\n",
              "      <th>std</th>\n",
              "      <td>0.870029</td>\n",
              "      <td>0.892735</td>\n",
              "      <td>153.220835</td>\n",
              "      <td>96.645289</td>\n",
              "      <td>19.617875</td>\n",
              "      <td>5.728849</td>\n",
              "    </tr>\n",
              "    <tr>\n",
              "      <th>min</th>\n",
              "      <td>0.000000</td>\n",
              "      <td>0.000000</td>\n",
              "      <td>0.000000</td>\n",
              "      <td>0.000000</td>\n",
              "      <td>0.000000</td>\n",
              "      <td>0.000000</td>\n",
              "    </tr>\n",
              "    <tr>\n",
              "      <th>25%</th>\n",
              "      <td>0.000000</td>\n",
              "      <td>0.000000</td>\n",
              "      <td>17.000000</td>\n",
              "      <td>3.000000</td>\n",
              "      <td>2.000000</td>\n",
              "      <td>0.000000</td>\n",
              "    </tr>\n",
              "    <tr>\n",
              "      <th>50%</th>\n",
              "      <td>0.000000</td>\n",
              "      <td>0.000000</td>\n",
              "      <td>40.000000</td>\n",
              "      <td>7.000000</td>\n",
              "      <td>5.000000</td>\n",
              "      <td>0.000000</td>\n",
              "    </tr>\n",
              "    <tr>\n",
              "      <th>75%</th>\n",
              "      <td>0.000000</td>\n",
              "      <td>0.000000</td>\n",
              "      <td>84.000000</td>\n",
              "      <td>15.000000</td>\n",
              "      <td>11.000000</td>\n",
              "      <td>0.000000</td>\n",
              "    </tr>\n",
              "    <tr>\n",
              "      <th>max</th>\n",
              "      <td>15.000000</td>\n",
              "      <td>11.000000</td>\n",
              "      <td>1844.000000</td>\n",
              "      <td>1666.000000</td>\n",
              "      <td>238.000000</td>\n",
              "      <td>91.000000</td>\n",
              "    </tr>\n",
              "  </tbody>\n",
              "</table>\n",
              "</div>"
            ],
            "text/plain": [
              "       Persons_killed  Persons_injured  Individuals_affected  \\\n",
              "count      617.000000       617.000000            617.000000   \n",
              "mean         0.149109         0.184765             76.063209   \n",
              "std          0.870029         0.892735            153.220835   \n",
              "min          0.000000         0.000000              0.000000   \n",
              "25%          0.000000         0.000000             17.000000   \n",
              "50%          0.000000         0.000000             40.000000   \n",
              "75%          0.000000         0.000000             84.000000   \n",
              "max         15.000000        11.000000           1844.000000   \n",
              "\n",
              "       Families_affected  Houses_damaged  Houses_destroyed  \n",
              "count         617.000000      617.000000        617.000000  \n",
              "mean           23.581848        9.649919          1.106969  \n",
              "std            96.645289       19.617875          5.728849  \n",
              "min             0.000000        0.000000          0.000000  \n",
              "25%             3.000000        2.000000          0.000000  \n",
              "50%             7.000000        5.000000          0.000000  \n",
              "75%            15.000000       11.000000          0.000000  \n",
              "max          1666.000000      238.000000         91.000000  "
            ]
          },
          "metadata": {
            "tags": []
          },
          "execution_count": 16
        }
      ]
    },
    {
      "cell_type": "code",
      "metadata": {
        "id": "9DtxaB0Uz739",
        "outputId": "65b0b5a0-6980-43a6-b249-9079beb7555c"
      },
      "source": [
        "month = [ flood_eastern.INC_DATE[i][3:5] for i in range(flood_eastern.shape[0])]\n",
        "flood_eastern_month =  flood_eastern.copy()\n",
        "flood_eastern_month.INC_DATE = month\n",
        "flood_eastern_month = flood_eastern_month.groupby('INC_DATE')['INC_DATE'].agg(['count'])\n",
        "flood_eastern_month"
      ],
      "execution_count": null,
      "outputs": [
        {
          "output_type": "execute_result",
          "data": {
            "text/html": [
              "<div>\n",
              "<style scoped>\n",
              "    .dataframe tbody tr th:only-of-type {\n",
              "        vertical-align: middle;\n",
              "    }\n",
              "\n",
              "    .dataframe tbody tr th {\n",
              "        vertical-align: top;\n",
              "    }\n",
              "\n",
              "    .dataframe thead th {\n",
              "        text-align: right;\n",
              "    }\n",
              "</style>\n",
              "<table border=\"1\" class=\"dataframe\">\n",
              "  <thead>\n",
              "    <tr style=\"text-align: right;\">\n",
              "      <th></th>\n",
              "      <th>count</th>\n",
              "    </tr>\n",
              "    <tr>\n",
              "      <th>INC_DATE</th>\n",
              "      <th></th>\n",
              "    </tr>\n",
              "  </thead>\n",
              "  <tbody>\n",
              "    <tr>\n",
              "      <th>01</th>\n",
              "      <td>30</td>\n",
              "    </tr>\n",
              "    <tr>\n",
              "      <th>02</th>\n",
              "      <td>132</td>\n",
              "    </tr>\n",
              "    <tr>\n",
              "      <th>03</th>\n",
              "      <td>99</td>\n",
              "    </tr>\n",
              "    <tr>\n",
              "      <th>04</th>\n",
              "      <td>152</td>\n",
              "    </tr>\n",
              "    <tr>\n",
              "      <th>05</th>\n",
              "      <td>44</td>\n",
              "    </tr>\n",
              "    <tr>\n",
              "      <th>06</th>\n",
              "      <td>28</td>\n",
              "    </tr>\n",
              "    <tr>\n",
              "      <th>07</th>\n",
              "      <td>29</td>\n",
              "    </tr>\n",
              "    <tr>\n",
              "      <th>08</th>\n",
              "      <td>50</td>\n",
              "    </tr>\n",
              "    <tr>\n",
              "      <th>09</th>\n",
              "      <td>20</td>\n",
              "    </tr>\n",
              "    <tr>\n",
              "      <th>10</th>\n",
              "      <td>15</td>\n",
              "    </tr>\n",
              "    <tr>\n",
              "      <th>11</th>\n",
              "      <td>18</td>\n",
              "    </tr>\n",
              "  </tbody>\n",
              "</table>\n",
              "</div>"
            ],
            "text/plain": [
              "          count\n",
              "INC_DATE       \n",
              "01           30\n",
              "02          132\n",
              "03           99\n",
              "04          152\n",
              "05           44\n",
              "06           28\n",
              "07           29\n",
              "08           50\n",
              "09           20\n",
              "10           15\n",
              "11           18"
            ]
          },
          "metadata": {
            "tags": []
          },
          "execution_count": 17
        }
      ]
    },
    {
      "cell_type": "markdown",
      "metadata": {
        "id": "5JhMQlrTz739"
      },
      "source": [
        "    Inferences: Flood usually occurs in Eastern Side at Febs and Aprils"
      ]
    },
    {
      "cell_type": "code",
      "metadata": {
        "id": "ZoHnhPiRz739",
        "outputId": "2609809f-e393-4eb9-8ae7-2b62eec6dda1"
      },
      "source": [
        "flood_eastern.plot(kind = 'line', x = 'INC_DATE', y='Individuals_affected', figsize= (16,9))\n",
        "plt.show()"
      ],
      "execution_count": null,
      "outputs": [
        {
          "output_type": "display_data",
          "data": {
            "image/png": "[encoded data removed]",
            "text/plain": [
              "<Figure size 1152x648 with 1 Axes>"
            ]
          },
          "metadata": {
            "tags": [],
            "needs_background": "light"
          }
        }
      ]
    },
    {
      "cell_type": "markdown",
      "metadata": {
        "id": "cuiRLibKz74A"
      },
      "source": [
        "### Damage dealing"
      ]
    },
    {
      "cell_type": "code",
      "metadata": {
        "id": "r0j9pM6Kz74A",
        "outputId": "c96fcd91-5e6e-4d90-a15b-5334f699882d"
      },
      "source": [
        "damage = data.copy()\n",
        "damage['Persons_damage'] = damage.Persons_killed + damage.Persons_injured\n",
        "damage['Properties_damage'] = damage.Houses_damaged + damage.Houses_destroyed\n",
        "damage_region = damage.groupby('REGION').sum()\n",
        "damage_region"
      ],
      "execution_count": null,
      "outputs": [
        {
          "output_type": "execute_result",
          "data": {
            "text/html": [
              "<div>\n",
              "<style scoped>\n",
              "    .dataframe tbody tr th:only-of-type {\n",
              "        vertical-align: middle;\n",
              "    }\n",
              "\n",
              "    .dataframe tbody tr th {\n",
              "        vertical-align: top;\n",
              "    }\n",
              "\n",
              "    .dataframe thead th {\n",
              "        text-align: right;\n",
              "    }\n",
              "</style>\n",
              "<table border=\"1\" class=\"dataframe\">\n",
              "  <thead>\n",
              "    <tr style=\"text-align: right;\">\n",
              "      <th></th>\n",
              "      <th>Persons_killed</th>\n",
              "      <th>Persons_injured</th>\n",
              "      <th>Individuals_affected</th>\n",
              "      <th>Families_affected</th>\n",
              "      <th>Houses_damaged</th>\n",
              "      <th>Houses_destroyed</th>\n",
              "      <th>Persons_damage</th>\n",
              "      <th>Properties_damage</th>\n",
              "    </tr>\n",
              "    <tr>\n",
              "      <th>REGION</th>\n",
              "      <th></th>\n",
              "      <th></th>\n",
              "      <th></th>\n",
              "      <th></th>\n",
              "      <th></th>\n",
              "      <th></th>\n",
              "      <th></th>\n",
              "      <th></th>\n",
              "    </tr>\n",
              "  </thead>\n",
              "  <tbody>\n",
              "    <tr>\n",
              "      <th>Capital</th>\n",
              "      <td>170</td>\n",
              "      <td>179</td>\n",
              "      <td>63903</td>\n",
              "      <td>15048</td>\n",
              "      <td>6720</td>\n",
              "      <td>2679</td>\n",
              "      <td>349</td>\n",
              "      <td>9399</td>\n",
              "    </tr>\n",
              "    <tr>\n",
              "      <th>Central Highland</th>\n",
              "      <td>39</td>\n",
              "      <td>8</td>\n",
              "      <td>28443</td>\n",
              "      <td>5572</td>\n",
              "      <td>736</td>\n",
              "      <td>495</td>\n",
              "      <td>47</td>\n",
              "      <td>1231</td>\n",
              "    </tr>\n",
              "    <tr>\n",
              "      <th>Eastern</th>\n",
              "      <td>155</td>\n",
              "      <td>158</td>\n",
              "      <td>51263</td>\n",
              "      <td>15230</td>\n",
              "      <td>6450</td>\n",
              "      <td>714</td>\n",
              "      <td>313</td>\n",
              "      <td>7164</td>\n",
              "    </tr>\n",
              "    <tr>\n",
              "      <th>North Eastern</th>\n",
              "      <td>101</td>\n",
              "      <td>90</td>\n",
              "      <td>69173</td>\n",
              "      <td>25579</td>\n",
              "      <td>5654</td>\n",
              "      <td>3354</td>\n",
              "      <td>191</td>\n",
              "      <td>9008</td>\n",
              "    </tr>\n",
              "    <tr>\n",
              "      <th>Northern</th>\n",
              "      <td>53</td>\n",
              "      <td>38</td>\n",
              "      <td>93204</td>\n",
              "      <td>27773</td>\n",
              "      <td>7414</td>\n",
              "      <td>4798</td>\n",
              "      <td>91</td>\n",
              "      <td>12212</td>\n",
              "    </tr>\n",
              "    <tr>\n",
              "      <th>South Eastern</th>\n",
              "      <td>46</td>\n",
              "      <td>72</td>\n",
              "      <td>36904</td>\n",
              "      <td>8054</td>\n",
              "      <td>2405</td>\n",
              "      <td>1076</td>\n",
              "      <td>118</td>\n",
              "      <td>3481</td>\n",
              "    </tr>\n",
              "    <tr>\n",
              "      <th>Southern</th>\n",
              "      <td>74</td>\n",
              "      <td>43</td>\n",
              "      <td>97748</td>\n",
              "      <td>14010</td>\n",
              "      <td>8575</td>\n",
              "      <td>3439</td>\n",
              "      <td>117</td>\n",
              "      <td>12014</td>\n",
              "    </tr>\n",
              "    <tr>\n",
              "      <th>Western</th>\n",
              "      <td>119</td>\n",
              "      <td>94</td>\n",
              "      <td>177203</td>\n",
              "      <td>47595</td>\n",
              "      <td>13992</td>\n",
              "      <td>8279</td>\n",
              "      <td>213</td>\n",
              "      <td>22271</td>\n",
              "    </tr>\n",
              "  </tbody>\n",
              "</table>\n",
              "</div>"
            ],
            "text/plain": [
              "                  Persons_killed  Persons_injured  Individuals_affected  \\\n",
              "REGION                                                                    \n",
              "Capital                      170              179                 63903   \n",
              "Central Highland              39                8                 28443   \n",
              "Eastern                      155              158                 51263   \n",
              "North Eastern                101               90                 69173   \n",
              "Northern                      53               38                 93204   \n",
              "South Eastern                 46               72                 36904   \n",
              "Southern                      74               43                 97748   \n",
              "Western                      119               94                177203   \n",
              "\n",
              "                  Families_affected  Houses_damaged  Houses_destroyed  \\\n",
              "REGION                                                                  \n",
              "Capital                       15048            6720              2679   \n",
              "Central Highland               5572             736               495   \n",
              "Eastern                       15230            6450               714   \n",
              "North Eastern                 25579            5654              3354   \n",
              "Northern                      27773            7414              4798   \n",
              "South Eastern                  8054            2405              1076   \n",
              "Southern                      14010            8575              3439   \n",
              "Western                       47595           13992              8279   \n",
              "\n",
              "                  Persons_damage  Properties_damage  \n",
              "REGION                                               \n",
              "Capital                      349               9399  \n",
              "Central Highland              47               1231  \n",
              "Eastern                      313               7164  \n",
              "North Eastern                191               9008  \n",
              "Northern                      91              12212  \n",
              "South Eastern                118               3481  \n",
              "Southern                     117              12014  \n",
              "Western                      213              22271  "
            ]
          },
          "metadata": {
            "tags": []
          },
          "execution_count": 19
        }
      ]
    },
    {
      "cell_type": "markdown",
      "metadata": {
        "id": "dxcIuUPPz74A"
      },
      "source": [
        "    Inferences: Western has highest damaged (Individuals, Families, Properties)"
      ]
    },
    {
      "cell_type": "code",
      "metadata": {
        "id": "GpYwH3BJz74A",
        "outputId": "490e32fc-be60-4f7e-86cf-c3f03276aeed"
      },
      "source": [
        "damage_western = damage[damage.REGION == 'Western']\n",
        "damage_western_dis = damage_western.groupby('INC_TYPE').sum()\n",
        "damage_western_dis"
      ],
      "execution_count": null,
      "outputs": [
        {
          "output_type": "execute_result",
          "data": {
            "text/html": [
              "<div>\n",
              "<style scoped>\n",
              "    .dataframe tbody tr th:only-of-type {\n",
              "        vertical-align: middle;\n",
              "    }\n",
              "\n",
              "    .dataframe tbody tr th {\n",
              "        vertical-align: top;\n",
              "    }\n",
              "\n",
              "    .dataframe thead th {\n",
              "        text-align: right;\n",
              "    }\n",
              "</style>\n",
              "<table border=\"1\" class=\"dataframe\">\n",
              "  <thead>\n",
              "    <tr style=\"text-align: right;\">\n",
              "      <th></th>\n",
              "      <th>Persons_killed</th>\n",
              "      <th>Persons_injured</th>\n",
              "      <th>Individuals_affected</th>\n",
              "      <th>Families_affected</th>\n",
              "      <th>Houses_damaged</th>\n",
              "      <th>Houses_destroyed</th>\n",
              "      <th>Persons_damage</th>\n",
              "      <th>Properties_damage</th>\n",
              "    </tr>\n",
              "    <tr>\n",
              "      <th>INC_TYPE</th>\n",
              "      <th></th>\n",
              "      <th></th>\n",
              "      <th></th>\n",
              "      <th></th>\n",
              "      <th></th>\n",
              "      <th></th>\n",
              "      <th></th>\n",
              "      <th></th>\n",
              "    </tr>\n",
              "  </thead>\n",
              "  <tbody>\n",
              "    <tr>\n",
              "      <th>Avalanche</th>\n",
              "      <td>2</td>\n",
              "      <td>0</td>\n",
              "      <td>39</td>\n",
              "      <td>5</td>\n",
              "      <td>4</td>\n",
              "      <td>1</td>\n",
              "      <td>2</td>\n",
              "      <td>5</td>\n",
              "    </tr>\n",
              "    <tr>\n",
              "      <th>Flood / flash flood</th>\n",
              "      <td>102</td>\n",
              "      <td>93</td>\n",
              "      <td>172144</td>\n",
              "      <td>46868</td>\n",
              "      <td>13233</td>\n",
              "      <td>8272</td>\n",
              "      <td>195</td>\n",
              "      <td>21505</td>\n",
              "    </tr>\n",
              "    <tr>\n",
              "      <th>Heavy snowfall</th>\n",
              "      <td>14</td>\n",
              "      <td>1</td>\n",
              "      <td>5007</td>\n",
              "      <td>715</td>\n",
              "      <td>704</td>\n",
              "      <td>6</td>\n",
              "      <td>15</td>\n",
              "      <td>710</td>\n",
              "    </tr>\n",
              "    <tr>\n",
              "      <th>Landslide / mudflow</th>\n",
              "      <td>0</td>\n",
              "      <td>0</td>\n",
              "      <td>6</td>\n",
              "      <td>6</td>\n",
              "      <td>51</td>\n",
              "      <td>0</td>\n",
              "      <td>0</td>\n",
              "      <td>51</td>\n",
              "    </tr>\n",
              "    <tr>\n",
              "      <th>Remove</th>\n",
              "      <td>1</td>\n",
              "      <td>0</td>\n",
              "      <td>7</td>\n",
              "      <td>1</td>\n",
              "      <td>0</td>\n",
              "      <td>0</td>\n",
              "      <td>1</td>\n",
              "      <td>0</td>\n",
              "    </tr>\n",
              "  </tbody>\n",
              "</table>\n",
              "</div>"
            ],
            "text/plain": [
              "                     Persons_killed  Persons_injured  Individuals_affected  \\\n",
              "INC_TYPE                                                                     \n",
              "Avalanche                         2                0                    39   \n",
              "Flood / flash flood             102               93                172144   \n",
              "Heavy snowfall                   14                1                  5007   \n",
              "Landslide / mudflow               0                0                     6   \n",
              "Remove                            1                0                     7   \n",
              "\n",
              "                     Families_affected  Houses_damaged  Houses_destroyed  \\\n",
              "INC_TYPE                                                                   \n",
              "Avalanche                            5               4                 1   \n",
              "Flood / flash flood              46868           13233              8272   \n",
              "Heavy snowfall                     715             704                 6   \n",
              "Landslide / mudflow                  6              51                 0   \n",
              "Remove                               1               0                 0   \n",
              "\n",
              "                     Persons_damage  Properties_damage  \n",
              "INC_TYPE                                                \n",
              "Avalanche                         2                  5  \n",
              "Flood / flash flood             195              21505  \n",
              "Heavy snowfall                   15                710  \n",
              "Landslide / mudflow               0                 51  \n",
              "Remove                            1                  0  "
            ]
          },
          "metadata": {
            "tags": []
          },
          "execution_count": 20
        }
      ]
    },
    {
      "cell_type": "markdown",
      "metadata": {
        "id": "M5_BUI8Wz74B"
      },
      "source": [
        "    Inferences: Western has highest damaged by Flood"
      ]
    },
    {
      "cell_type": "markdown",
      "metadata": {
        "id": "AkNCMOYRz74B"
      },
      "source": [
        "### Damage ratio between disasters"
      ]
    },
    {
      "cell_type": "code",
      "metadata": {
        "id": "H0ITnwdlz74B",
        "outputId": "aedb3a0a-dfc8-4350-ebbb-3fd1b0ebde21"
      },
      "source": [
        "dis_type = dis_type.reset_index()\n",
        "dis_type"
      ],
      "execution_count": null,
      "outputs": [
        {
          "output_type": "execute_result",
          "data": {
            "text/html": [
              "<div>\n",
              "<style scoped>\n",
              "    .dataframe tbody tr th:only-of-type {\n",
              "        vertical-align: middle;\n",
              "    }\n",
              "\n",
              "    .dataframe tbody tr th {\n",
              "        vertical-align: top;\n",
              "    }\n",
              "\n",
              "    .dataframe thead th {\n",
              "        text-align: right;\n",
              "    }\n",
              "</style>\n",
              "<table border=\"1\" class=\"dataframe\">\n",
              "  <thead>\n",
              "    <tr style=\"text-align: right;\">\n",
              "      <th></th>\n",
              "      <th>INC_TYPE</th>\n",
              "      <th>count</th>\n",
              "    </tr>\n",
              "  </thead>\n",
              "  <tbody>\n",
              "    <tr>\n",
              "      <th>0</th>\n",
              "      <td>Flood / flash flood</td>\n",
              "      <td>1741</td>\n",
              "    </tr>\n",
              "    <tr>\n",
              "      <th>1</th>\n",
              "      <td>Heavy snowfall</td>\n",
              "      <td>218</td>\n",
              "    </tr>\n",
              "    <tr>\n",
              "      <th>2</th>\n",
              "      <td>Avalanche</td>\n",
              "      <td>48</td>\n",
              "    </tr>\n",
              "    <tr>\n",
              "      <th>3</th>\n",
              "      <td>Landslide / mudflow</td>\n",
              "      <td>37</td>\n",
              "    </tr>\n",
              "    <tr>\n",
              "      <th>4</th>\n",
              "      <td>Earthquake</td>\n",
              "      <td>33</td>\n",
              "    </tr>\n",
              "    <tr>\n",
              "      <th>5</th>\n",
              "      <td>Remove</td>\n",
              "      <td>10</td>\n",
              "    </tr>\n",
              "  </tbody>\n",
              "</table>\n",
              "</div>"
            ],
            "text/plain": [
              "              INC_TYPE  count\n",
              "0  Flood / flash flood   1741\n",
              "1       Heavy snowfall    218\n",
              "2            Avalanche     48\n",
              "3  Landslide / mudflow     37\n",
              "4           Earthquake     33\n",
              "5               Remove     10"
            ]
          },
          "metadata": {
            "tags": []
          },
          "execution_count": 42
        }
      ]
    },
    {
      "cell_type": "code",
      "metadata": {
        "id": "g7yGGO-3z74C",
        "outputId": "21c973de-bad5-4455-aae0-da131987ddc4"
      },
      "source": [
        "total_damage = data.groupby('INC_TYPE').sum().reset_index()\n",
        "total_damage"
      ],
      "execution_count": null,
      "outputs": [
        {
          "output_type": "execute_result",
          "data": {
            "text/html": [
              "<div>\n",
              "<style scoped>\n",
              "    .dataframe tbody tr th:only-of-type {\n",
              "        vertical-align: middle;\n",
              "    }\n",
              "\n",
              "    .dataframe tbody tr th {\n",
              "        vertical-align: top;\n",
              "    }\n",
              "\n",
              "    .dataframe thead th {\n",
              "        text-align: right;\n",
              "    }\n",
              "</style>\n",
              "<table border=\"1\" class=\"dataframe\">\n",
              "  <thead>\n",
              "    <tr style=\"text-align: right;\">\n",
              "      <th></th>\n",
              "      <th>INC_TYPE</th>\n",
              "      <th>Persons_killed</th>\n",
              "      <th>Persons_injured</th>\n",
              "      <th>Individuals_affected</th>\n",
              "      <th>Families_affected</th>\n",
              "      <th>Houses_damaged</th>\n",
              "      <th>Houses_destroyed</th>\n",
              "    </tr>\n",
              "  </thead>\n",
              "  <tbody>\n",
              "    <tr>\n",
              "      <th>0</th>\n",
              "      <td>Avalanche</td>\n",
              "      <td>93</td>\n",
              "      <td>63</td>\n",
              "      <td>3450</td>\n",
              "      <td>493</td>\n",
              "      <td>76</td>\n",
              "      <td>193</td>\n",
              "    </tr>\n",
              "    <tr>\n",
              "      <th>1</th>\n",
              "      <td>Earthquake</td>\n",
              "      <td>8</td>\n",
              "      <td>19</td>\n",
              "      <td>8249</td>\n",
              "      <td>7726</td>\n",
              "      <td>728</td>\n",
              "      <td>323</td>\n",
              "    </tr>\n",
              "    <tr>\n",
              "      <th>2</th>\n",
              "      <td>Flood / flash flood</td>\n",
              "      <td>575</td>\n",
              "      <td>532</td>\n",
              "      <td>532195</td>\n",
              "      <td>137559</td>\n",
              "      <td>47313</td>\n",
              "      <td>22679</td>\n",
              "    </tr>\n",
              "    <tr>\n",
              "      <th>3</th>\n",
              "      <td>Heavy snowfall</td>\n",
              "      <td>59</td>\n",
              "      <td>47</td>\n",
              "      <td>63869</td>\n",
              "      <td>10409</td>\n",
              "      <td>3237</td>\n",
              "      <td>1206</td>\n",
              "    </tr>\n",
              "    <tr>\n",
              "      <th>4</th>\n",
              "      <td>Landslide / mudflow</td>\n",
              "      <td>11</td>\n",
              "      <td>11</td>\n",
              "      <td>9353</td>\n",
              "      <td>2564</td>\n",
              "      <td>470</td>\n",
              "      <td>432</td>\n",
              "    </tr>\n",
              "    <tr>\n",
              "      <th>5</th>\n",
              "      <td>Remove</td>\n",
              "      <td>11</td>\n",
              "      <td>10</td>\n",
              "      <td>725</td>\n",
              "      <td>110</td>\n",
              "      <td>122</td>\n",
              "      <td>1</td>\n",
              "    </tr>\n",
              "  </tbody>\n",
              "</table>\n",
              "</div>"
            ],
            "text/plain": [
              "              INC_TYPE  Persons_killed  Persons_injured  Individuals_affected  \\\n",
              "0            Avalanche              93               63                  3450   \n",
              "1           Earthquake               8               19                  8249   \n",
              "2  Flood / flash flood             575              532                532195   \n",
              "3       Heavy snowfall              59               47                 63869   \n",
              "4  Landslide / mudflow              11               11                  9353   \n",
              "5               Remove              11               10                   725   \n",
              "\n",
              "   Families_affected  Houses_damaged  Houses_destroyed  \n",
              "0                493              76               193  \n",
              "1               7726             728               323  \n",
              "2             137559           47313             22679  \n",
              "3              10409            3237              1206  \n",
              "4               2564             470               432  \n",
              "5                110             122                 1  "
            ]
          },
          "metadata": {
            "tags": []
          },
          "execution_count": 43
        }
      ]
    },
    {
      "cell_type": "code",
      "metadata": {
        "id": "ceb-gxSMz74C",
        "outputId": "c54d377e-8a54-47eb-f6b7-c71e1de9c41b"
      },
      "source": [
        "ratio_damage = pd.merge(total_damage, dis_type, on='INC_TYPE')\n",
        "for col_name in ratio_damage.columns[1:7]:\n",
        "    ratio_damage[f'{col_name}_ratio'] = ratio_damage[f'{col_name}']/ratio_damage['count']\n",
        "ratio_damage = ratio_damage.drop(['Persons_killed', 'Persons_injured', 'Individuals_affected', 'Families_affected', 'Houses_damaged', 'Houses_destroyed', 'count'], axis =1)\n",
        "ratio_damage"
      ],
      "execution_count": null,
      "outputs": [
        {
          "output_type": "execute_result",
          "data": {
            "text/html": [
              "<div>\n",
              "<style scoped>\n",
              "    .dataframe tbody tr th:only-of-type {\n",
              "        vertical-align: middle;\n",
              "    }\n",
              "\n",
              "    .dataframe tbody tr th {\n",
              "        vertical-align: top;\n",
              "    }\n",
              "\n",
              "    .dataframe thead th {\n",
              "        text-align: right;\n",
              "    }\n",
              "</style>\n",
              "<table border=\"1\" class=\"dataframe\">\n",
              "  <thead>\n",
              "    <tr style=\"text-align: right;\">\n",
              "      <th></th>\n",
              "      <th>INC_TYPE</th>\n",
              "      <th>Persons_killed_ratio</th>\n",
              "      <th>Persons_injured_ratio</th>\n",
              "      <th>Individuals_affected_ratio</th>\n",
              "      <th>Families_affected_ratio</th>\n",
              "      <th>Houses_damaged_ratio</th>\n",
              "      <th>Houses_destroyed_ratio</th>\n",
              "    </tr>\n",
              "  </thead>\n",
              "  <tbody>\n",
              "    <tr>\n",
              "      <th>0</th>\n",
              "      <td>Avalanche</td>\n",
              "      <td>1.937500</td>\n",
              "      <td>1.312500</td>\n",
              "      <td>71.875000</td>\n",
              "      <td>10.270833</td>\n",
              "      <td>1.583333</td>\n",
              "      <td>4.020833</td>\n",
              "    </tr>\n",
              "    <tr>\n",
              "      <th>1</th>\n",
              "      <td>Earthquake</td>\n",
              "      <td>0.242424</td>\n",
              "      <td>0.575758</td>\n",
              "      <td>249.969697</td>\n",
              "      <td>234.121212</td>\n",
              "      <td>22.060606</td>\n",
              "      <td>9.787879</td>\n",
              "    </tr>\n",
              "    <tr>\n",
              "      <th>2</th>\n",
              "      <td>Flood / flash flood</td>\n",
              "      <td>0.330270</td>\n",
              "      <td>0.305572</td>\n",
              "      <td>305.683515</td>\n",
              "      <td>79.011488</td>\n",
              "      <td>27.175761</td>\n",
              "      <td>13.026422</td>\n",
              "    </tr>\n",
              "    <tr>\n",
              "      <th>3</th>\n",
              "      <td>Heavy snowfall</td>\n",
              "      <td>0.270642</td>\n",
              "      <td>0.215596</td>\n",
              "      <td>292.977064</td>\n",
              "      <td>47.747706</td>\n",
              "      <td>14.848624</td>\n",
              "      <td>5.532110</td>\n",
              "    </tr>\n",
              "    <tr>\n",
              "      <th>4</th>\n",
              "      <td>Landslide / mudflow</td>\n",
              "      <td>0.297297</td>\n",
              "      <td>0.297297</td>\n",
              "      <td>252.783784</td>\n",
              "      <td>69.297297</td>\n",
              "      <td>12.702703</td>\n",
              "      <td>11.675676</td>\n",
              "    </tr>\n",
              "    <tr>\n",
              "      <th>5</th>\n",
              "      <td>Remove</td>\n",
              "      <td>1.100000</td>\n",
              "      <td>1.000000</td>\n",
              "      <td>72.500000</td>\n",
              "      <td>11.000000</td>\n",
              "      <td>12.200000</td>\n",
              "      <td>0.100000</td>\n",
              "    </tr>\n",
              "  </tbody>\n",
              "</table>\n",
              "</div>"
            ],
            "text/plain": [
              "              INC_TYPE  Persons_killed_ratio  Persons_injured_ratio  \\\n",
              "0            Avalanche              1.937500               1.312500   \n",
              "1           Earthquake              0.242424               0.575758   \n",
              "2  Flood / flash flood              0.330270               0.305572   \n",
              "3       Heavy snowfall              0.270642               0.215596   \n",
              "4  Landslide / mudflow              0.297297               0.297297   \n",
              "5               Remove              1.100000               1.000000   \n",
              "\n",
              "   Individuals_affected_ratio  Families_affected_ratio  Houses_damaged_ratio  \\\n",
              "0                   71.875000                10.270833              1.583333   \n",
              "1                  249.969697               234.121212             22.060606   \n",
              "2                  305.683515                79.011488             27.175761   \n",
              "3                  292.977064                47.747706             14.848624   \n",
              "4                  252.783784                69.297297             12.702703   \n",
              "5                   72.500000                11.000000             12.200000   \n",
              "\n",
              "   Houses_destroyed_ratio  \n",
              "0                4.020833  \n",
              "1                9.787879  \n",
              "2               13.026422  \n",
              "3                5.532110  \n",
              "4               11.675676  \n",
              "5                0.100000  "
            ]
          },
          "metadata": {
            "tags": []
          },
          "execution_count": 49
        }
      ]
    },
    {
      "cell_type": "code",
      "metadata": {
        "id": "YVVdBmSy-wRZ"
      },
      "source": [
        ""
      ],
      "execution_count": null,
      "outputs": []
    },
    {
      "cell_type": "code",
      "metadata": {
        "id": "5Q8grgWfjVCj"
      },
      "source": [
        "import pandas as pd\n",
        "import matplotlib.pyplot as plt\n",
        "import numpy as np\n",
        "from plotnine import *"
      ],
      "execution_count": null,
      "outputs": []
    },
    {
      "cell_type": "code",
      "metadata": {
        "id": "J_Be3aaljouy"
      },
      "source": [
        "dframe=pd.read_csv('/content/drive/MyDrive/afghanistan-natural-disaster-incidents-from-january-2016-to-december-2020.csv')"
      ],
      "execution_count": null,
      "outputs": []
    },
    {
      "cell_type": "code",
      "metadata": {
        "id": "0GUCN70Ojvge",
        "colab": {
          "base_uri": "https://localhost:8080/",
          "height": 425
        },
        "outputId": "6d80d27c-7d26-4767-8617-ffa89699269f"
      },
      "source": [
        "dframe"
      ],
      "execution_count": null,
      "outputs": [
        {
          "output_type": "execute_result",
          "data": {
            "text/html": [
              "<div>\n",
              "<style scoped>\n",
              "    .dataframe tbody tr th:only-of-type {\n",
              "        vertical-align: middle;\n",
              "    }\n",
              "\n",
              "    .dataframe tbody tr th {\n",
              "        vertical-align: top;\n",
              "    }\n",
              "\n",
              "    .dataframe thead th {\n",
              "        text-align: right;\n",
              "    }\n",
              "</style>\n",
              "<table border=\"1\" class=\"dataframe\">\n",
              "  <thead>\n",
              "    <tr style=\"text-align: right;\">\n",
              "      <th></th>\n",
              "      <th>REGION</th>\n",
              "      <th>PROV_CODE</th>\n",
              "      <th>PROV_NAME</th>\n",
              "      <th>DIST_CODE</th>\n",
              "      <th>DIST_NAME</th>\n",
              "      <th>INC_DATE</th>\n",
              "      <th>INC_TYPE</th>\n",
              "      <th>Persons_killed</th>\n",
              "      <th>Persons_injured</th>\n",
              "      <th>Individuals_affected</th>\n",
              "      <th>Families_affected</th>\n",
              "      <th>Houses_damaged</th>\n",
              "      <th>Houses_destroyed</th>\n",
              "    </tr>\n",
              "  </thead>\n",
              "  <tbody>\n",
              "    <tr>\n",
              "      <th>0</th>\n",
              "      <td>Western</td>\n",
              "      <td>31</td>\n",
              "      <td>Farah</td>\n",
              "      <td>3101</td>\n",
              "      <td>Farah</td>\n",
              "      <td>11/03/2016</td>\n",
              "      <td>Flood / flash flood</td>\n",
              "      <td>18</td>\n",
              "      <td>9</td>\n",
              "      <td>996</td>\n",
              "      <td>150</td>\n",
              "      <td>88</td>\n",
              "      <td>32</td>\n",
              "    </tr>\n",
              "    <tr>\n",
              "      <th>1</th>\n",
              "      <td>Western</td>\n",
              "      <td>30</td>\n",
              "      <td>Hirat</td>\n",
              "      <td>3003</td>\n",
              "      <td>Kushk</td>\n",
              "      <td>11/03/2016</td>\n",
              "      <td>Flood / flash flood</td>\n",
              "      <td>0</td>\n",
              "      <td>0</td>\n",
              "      <td>169</td>\n",
              "      <td>21</td>\n",
              "      <td>21</td>\n",
              "      <td>0</td>\n",
              "    </tr>\n",
              "    <tr>\n",
              "      <th>2</th>\n",
              "      <td>Western</td>\n",
              "      <td>30</td>\n",
              "      <td>Hirat</td>\n",
              "      <td>3002</td>\n",
              "      <td>Injil</td>\n",
              "      <td>16/04/2016</td>\n",
              "      <td>Flood / flash flood</td>\n",
              "      <td>1</td>\n",
              "      <td>0</td>\n",
              "      <td>404</td>\n",
              "      <td>54</td>\n",
              "      <td>23</td>\n",
              "      <td>31</td>\n",
              "    </tr>\n",
              "    <tr>\n",
              "      <th>3</th>\n",
              "      <td>Western</td>\n",
              "      <td>30</td>\n",
              "      <td>Hirat</td>\n",
              "      <td>3005</td>\n",
              "      <td>Guzara</td>\n",
              "      <td>16/04/2016</td>\n",
              "      <td>Flood / flash flood</td>\n",
              "      <td>0</td>\n",
              "      <td>0</td>\n",
              "      <td>20</td>\n",
              "      <td>3</td>\n",
              "      <td>3</td>\n",
              "      <td>0</td>\n",
              "    </tr>\n",
              "    <tr>\n",
              "      <th>4</th>\n",
              "      <td>Western</td>\n",
              "      <td>30</td>\n",
              "      <td>Hirat</td>\n",
              "      <td>3005</td>\n",
              "      <td>Guzara</td>\n",
              "      <td>17/04/2016</td>\n",
              "      <td>Flood / flash flood</td>\n",
              "      <td>0</td>\n",
              "      <td>0</td>\n",
              "      <td>7</td>\n",
              "      <td>1</td>\n",
              "      <td>0</td>\n",
              "      <td>0</td>\n",
              "    </tr>\n",
              "    <tr>\n",
              "      <th>...</th>\n",
              "      <td>...</td>\n",
              "      <td>...</td>\n",
              "      <td>...</td>\n",
              "      <td>...</td>\n",
              "      <td>...</td>\n",
              "      <td>...</td>\n",
              "      <td>...</td>\n",
              "      <td>...</td>\n",
              "      <td>...</td>\n",
              "      <td>...</td>\n",
              "      <td>...</td>\n",
              "      <td>...</td>\n",
              "      <td>...</td>\n",
              "    </tr>\n",
              "    <tr>\n",
              "      <th>2082</th>\n",
              "      <td>Southern</td>\n",
              "      <td>24</td>\n",
              "      <td>Zabul</td>\n",
              "      <td>2401</td>\n",
              "      <td>Qalat</td>\n",
              "      <td>13/11/2020</td>\n",
              "      <td>Flood / flash flood</td>\n",
              "      <td>0</td>\n",
              "      <td>0</td>\n",
              "      <td>21</td>\n",
              "      <td>3</td>\n",
              "      <td>3</td>\n",
              "      <td>0</td>\n",
              "    </tr>\n",
              "    <tr>\n",
              "      <th>2083</th>\n",
              "      <td>Eastern</td>\n",
              "      <td>7</td>\n",
              "      <td>Laghman</td>\n",
              "      <td>701</td>\n",
              "      <td>Mehtarlam</td>\n",
              "      <td>15/11/2020</td>\n",
              "      <td>Flood / flash flood</td>\n",
              "      <td>0</td>\n",
              "      <td>0</td>\n",
              "      <td>77</td>\n",
              "      <td>11</td>\n",
              "      <td>10</td>\n",
              "      <td>1</td>\n",
              "    </tr>\n",
              "    <tr>\n",
              "      <th>2084</th>\n",
              "      <td>Eastern</td>\n",
              "      <td>13</td>\n",
              "      <td>Kunar</td>\n",
              "      <td>1301</td>\n",
              "      <td>Asadabad</td>\n",
              "      <td>20/11/2020</td>\n",
              "      <td>Flood / flash flood</td>\n",
              "      <td>0</td>\n",
              "      <td>0</td>\n",
              "      <td>21</td>\n",
              "      <td>3</td>\n",
              "      <td>3</td>\n",
              "      <td>0</td>\n",
              "    </tr>\n",
              "    <tr>\n",
              "      <th>2085</th>\n",
              "      <td>Eastern</td>\n",
              "      <td>13</td>\n",
              "      <td>Kunar</td>\n",
              "      <td>1305</td>\n",
              "      <td>Marawara</td>\n",
              "      <td>20/11/2020</td>\n",
              "      <td>Flood / flash flood</td>\n",
              "      <td>0</td>\n",
              "      <td>0</td>\n",
              "      <td>42</td>\n",
              "      <td>6</td>\n",
              "      <td>6</td>\n",
              "      <td>0</td>\n",
              "    </tr>\n",
              "    <tr>\n",
              "      <th>2086</th>\n",
              "      <td>Eastern</td>\n",
              "      <td>13</td>\n",
              "      <td>Kunar</td>\n",
              "      <td>1305</td>\n",
              "      <td>Marawara</td>\n",
              "      <td>20/11/2020</td>\n",
              "      <td>Flood / flash flood</td>\n",
              "      <td>0</td>\n",
              "      <td>0</td>\n",
              "      <td>42</td>\n",
              "      <td>6</td>\n",
              "      <td>6</td>\n",
              "      <td>0</td>\n",
              "    </tr>\n",
              "  </tbody>\n",
              "</table>\n",
              "<p>2087 rows × 13 columns</p>\n",
              "</div>"
            ],
            "text/plain": [
              "        REGION  PROV_CODE  ... Houses_damaged  Houses_destroyed\n",
              "0      Western         31  ...             88                32\n",
              "1      Western         30  ...             21                 0\n",
              "2      Western         30  ...             23                31\n",
              "3      Western         30  ...              3                 0\n",
              "4      Western         30  ...              0                 0\n",
              "...        ...        ...  ...            ...               ...\n",
              "2082  Southern         24  ...              3                 0\n",
              "2083   Eastern          7  ...             10                 1\n",
              "2084   Eastern         13  ...              3                 0\n",
              "2085   Eastern         13  ...              6                 0\n",
              "2086   Eastern         13  ...              6                 0\n",
              "\n",
              "[2087 rows x 13 columns]"
            ]
          },
          "metadata": {
            "tags": []
          },
          "execution_count": 3
        }
      ]
    },
    {
      "cell_type": "code",
      "metadata": {
        "id": "qneV_vR-rBep"
      },
      "source": [
        "#'Persons_killed','Persons_injured','Families_affected','Individuals_affected2','Houses_damaged','Houses_destroyed'"
      ],
      "execution_count": null,
      "outputs": []
    },
    {
      "cell_type": "markdown",
      "metadata": {
        "id": "IhePqqkkrx7Z"
      },
      "source": [
        "## Figures of each Affection type"
      ]
    },
    {
      "cell_type": "code",
      "metadata": {
        "id": "_Brw6TMtrEtR"
      },
      "source": [
        "Persons_killed=pd.to_numeric(dframe['Persons_killed']).sum()\n",
        "Persons_injured=pd.to_numeric(dframe['Persons_injured']).sum()\n",
        "Families_affected=pd.to_numeric(dframe['Families_affected']).sum()\n",
        "Individuals_affected=pd.to_numeric(dframe['Individuals_affected']).sum()\n",
        "Houses_damaged=pd.to_numeric(dframe['Houses_damaged']).sum()\n",
        "Houses_destroyed=pd.to_numeric(dframe['Houses_destroyed']).sum()"
      ],
      "execution_count": null,
      "outputs": []
    },
    {
      "cell_type": "code",
      "metadata": {
        "id": "bCsTfZN7rUDj",
        "colab": {
          "base_uri": "https://localhost:8080/"
        },
        "outputId": "70d4f058-334e-493b-a2e3-b8c94cf58e49"
      },
      "source": [
        "print(\"Persons_killed from 2016 to 2020 by Natural disaster: \",Persons_killed)\n",
        "print(\"Persons_injured 2016 to 2020 by Natural disaster: \",Persons_injured)\n",
        "print(\"Families_affected 2016 to 2020 by Natural disaster: \",Families_affected)\n",
        "print(\"Individuals_affected 2016 to 2020 by Natural disaster: \",Individuals_affected)\n",
        "print(\"Houses_damaged 2016 to 2020 by Natural disaster: \",Houses_damaged)\n",
        "print(\"Houses_destroyed 2016 to 2020 by Natural disaster: \",Houses_destroyed)"
      ],
      "execution_count": null,
      "outputs": [
        {
          "output_type": "stream",
          "text": [
            "Persons_killed from 2016 to 2020 by Natural disaster:  757\n",
            "Persons_injured 2016 to 2020 by Natural disaster:  682\n",
            "Families_affected 2016 to 2020 by Natural disaster:  158861\n",
            "Individuals_affected 2016 to 2020 by Natural disaster:  617841\n",
            "Houses_damaged 2016 to 2020 by Natural disaster:  51946\n",
            "Houses_destroyed 2016 to 2020 by Natural disaster:  24834\n"
          ],
          "name": "stdout"
        }
      ]
    },
    {
      "cell_type": "markdown",
      "metadata": {
        "id": "UlBMCfVcr_GY"
      },
      "source": [
        "## Figures of each Incident type"
      ]
    },
    {
      "cell_type": "code",
      "metadata": {
        "id": "NztSmJ2tytMj",
        "colab": {
          "base_uri": "https://localhost:8080/",
          "height": 397
        },
        "outputId": "02e28b2e-1e7b-40da-af94-9d218071a308"
      },
      "source": [
        "kkk=dframe.groupby(\"INC_TYPE\")['INC_DATE'].count()\n",
        "x=kkk.axes[0]\n",
        "y=kkk.values\n",
        "colors = ['green','yellowgreen','red','gold','lightskyblue','white','lightcoral','blue','pink','yellow','grey','violet','magenta','cyan']\n",
        "porcent = 100.*y/y.sum()\n",
        "\n",
        "patches, texts = plt.pie(y, colors=None, startangle=90, radius=2)\n",
        "labels = ['{0} - {1:1.2f} %'.format(i,j) for i,j in zip(x, porcent)]\n",
        "\n",
        "sort_legend = True\n",
        "if sort_legend:\n",
        "    patches, labels, dummy =  zip(*sorted(zip(patches, labels, y),\n",
        "                                          key=lambda x: x[2],\n",
        "                                          reverse=True))\n",
        "\n",
        "plt.legend(patches, labels, loc='upper right', bbox_to_anchor=(-0.5, 1),\n",
        "           fontsize=20,title=\"Incident append portion from 2016-2020\")\n",
        "\n",
        "\n",
        "#plt.savefig('piechart.png', bbox_inches='tight')\n",
        "plt.show"
      ],
      "execution_count": null,
      "outputs": [
        {
          "output_type": "execute_result",
          "data": {
            "text/plain": [
              "<function matplotlib.pyplot.show>"
            ]
          },
          "metadata": {
            "tags": []
          },
          "execution_count": 148
        },
        {
          "output_type": "display_data",
          "data": {
            "image/png": "[encoded data removed]",
            "text/plain": [
              "<Figure size 432x288 with 1 Axes>"
            ]
          },
          "metadata": {
            "tags": []
          }
        }
      ]
    },
    {
      "cell_type": "markdown",
      "metadata": {
        "id": "iPO3aTRR5J_J"
      },
      "source": [
        "## Impact of each Incident type"
      ]
    },
    {
      "cell_type": "code",
      "metadata": {
        "colab": {
          "base_uri": "https://localhost:8080/",
          "height": 397
        },
        "id": "Kcp9xGG93el5",
        "outputId": "61ace26b-587b-4790-b869-5e59655f39ff"
      },
      "source": [
        "kkk=dframe.groupby(\"INC_TYPE\")['Persons_killed'].sum()\n",
        "x=kkk.axes[0]\n",
        "y=kkk.values\n",
        "colors = ['yellowgreen','red','gold','lightskyblue','white','lightcoral','blue','pink', 'darkgreen','yellow','grey','violet','magenta','cyan']\n",
        "porcent = y\n",
        "\n",
        "patches, texts = plt.pie(y, colors=None, startangle=90, radius=2)\n",
        "labels = ['{0} - {1:1} '.format(i,j) for i,j in zip(x, porcent)]\n",
        "\n",
        "sort_legend = True\n",
        "if sort_legend:\n",
        "    patches, labels, dummy =  zip(*sorted(zip(patches, labels, y),\n",
        "                                          key=lambda x: x[2],\n",
        "                                          reverse=True))\n",
        "\n",
        "plt.legend(patches, labels, loc='upper right', bbox_to_anchor=(-0.5, 1),\n",
        "           fontsize=20,title=\"Incident impact Persons_killed portion from 2016-2020\")\n",
        "\n",
        "\n",
        "#plt.savefig('piechart.png', bbox_inches='tight')\n",
        "plt.show"
      ],
      "execution_count": null,
      "outputs": [
        {
          "output_type": "execute_result",
          "data": {
            "text/plain": [
              "<function matplotlib.pyplot.show>"
            ]
          },
          "metadata": {
            "tags": []
          },
          "execution_count": 128
        },
        {
          "output_type": "display_data",
          "data": {
            "image/png": "[encoded data removed]",
            "text/plain": [
              "<Figure size 432x288 with 1 Axes>"
            ]
          },
          "metadata": {
            "tags": []
          }
        }
      ]
    },
    {
      "cell_type": "code",
      "metadata": {
        "colab": {
          "base_uri": "https://localhost:8080/",
          "height": 397
        },
        "id": "I0Rz16xG37mq",
        "outputId": "f6c78aa8-e34d-4136-8783-922200a4b702"
      },
      "source": [
        "kkk=dframe.groupby(\"INC_TYPE\")['Persons_injured'].sum()\n",
        "x=kkk.axes[0]\n",
        "y=kkk.values\n",
        "colors = ['yellowgreen','red','gold','lightskyblue','white','lightcoral','blue','pink', 'darkgreen','yellow','grey','violet','magenta','cyan']\n",
        "porcent = y\n",
        "\n",
        "patches, texts = plt.pie(y, colors=None, startangle=90, radius=2)\n",
        "labels = ['{0} - {1:1} '.format(i,j) for i,j in zip(x, porcent)]\n",
        "\n",
        "sort_legend = True\n",
        "if sort_legend:\n",
        "    patches, labels, dummy =  zip(*sorted(zip(patches, labels, y),\n",
        "                                          key=lambda x: x[2],\n",
        "                                          reverse=True))\n",
        "\n",
        "plt.legend(patches, labels, loc='upper right', bbox_to_anchor=(-0.5, 1),\n",
        "           fontsize=20,title=\"Incident impact Persons_injured portion from 2016-2020\")\n",
        "\n",
        "\n",
        "#plt.savefig('piechart.png', bbox_inches='tight')\n",
        "plt.show"
      ],
      "execution_count": null,
      "outputs": [
        {
          "output_type": "execute_result",
          "data": {
            "text/plain": [
              "<function matplotlib.pyplot.show>"
            ]
          },
          "metadata": {
            "tags": []
          },
          "execution_count": 122
        },
        {
          "output_type": "display_data",
          "data": {
            "image/png": "[encoded data removed]",
            "text/plain": [
              "<Figure size 432x288 with 1 Axes>"
            ]
          },
          "metadata": {
            "tags": []
          }
        }
      ]
    },
    {
      "cell_type": "code",
      "metadata": {
        "colab": {
          "base_uri": "https://localhost:8080/",
          "height": 397
        },
        "id": "4Q_m0lza38T8",
        "outputId": "03b6d2a1-a297-437d-f7d3-c35d40a99898"
      },
      "source": [
        "kkk=dframe.groupby(\"INC_TYPE\")['Families_affected'].sum()\n",
        "x=kkk.axes[0]\n",
        "y=kkk.values\n",
        "colors = ['yellowgreen','red','gold','lightskyblue','white','lightcoral','blue','pink', 'darkgreen','yellow','grey','violet','magenta','cyan']\n",
        "porcent = y\n",
        "\n",
        "patches, texts = plt.pie(y, colors=None, startangle=90, radius=2)\n",
        "labels = ['{0} - {1:1} '.format(i,j) for i,j in zip(x, porcent)]\n",
        "\n",
        "sort_legend = True\n",
        "if sort_legend:\n",
        "    patches, labels, dummy =  zip(*sorted(zip(patches, labels, y),\n",
        "                                          key=lambda x: x[2],\n",
        "                                          reverse=True))\n",
        "\n",
        "plt.legend(patches, labels, loc='upper right', bbox_to_anchor=(-0.5, 1),\n",
        "           fontsize=20,title=\"Incident impact Families_affected portion from 2016-2020\")\n",
        "\n",
        "\n",
        "#plt.savefig('piechart.png', bbox_inches='tight')\n",
        "plt.show"
      ],
      "execution_count": null,
      "outputs": [
        {
          "output_type": "execute_result",
          "data": {
            "text/plain": [
              "<function matplotlib.pyplot.show>"
            ]
          },
          "metadata": {
            "tags": []
          },
          "execution_count": 124
        },
        {
          "output_type": "display_data",
          "data": {
            "image/png": "[encoded data removed]",
            "text/plain": [
              "<Figure size 432x288 with 1 Axes>"
            ]
          },
          "metadata": {
            "tags": []
          }
        }
      ]
    },
    {
      "cell_type": "code",
      "metadata": {
        "colab": {
          "base_uri": "https://localhost:8080/",
          "height": 396
        },
        "id": "z1LavcX253OV",
        "outputId": "f0e6c192-aff0-41fa-ec09-b1e27cfab31b"
      },
      "source": [
        "kkk=dframe.groupby(\"INC_TYPE\")['Individuals_affected'].sum()\n",
        "x=kkk.axes[0]\n",
        "y=kkk.values\n",
        "colors = ['yellowgreen','red','gold','lightskyblue','white','lightcoral','blue','pink', 'darkgreen','yellow','grey','violet','magenta','cyan']\n",
        "porcent = y\n",
        "\n",
        "patches, texts = plt.pie(y, colors=None, startangle=90, radius=2)\n",
        "labels = ['{0} - {1:1} '.format(i,j) for i,j in zip(x, porcent)]\n",
        "\n",
        "sort_legend = True\n",
        "if sort_legend:\n",
        "    patches, labels, dummy =  zip(*sorted(zip(patches, labels, y),\n",
        "                                          key=lambda x: x[2],\n",
        "                                          reverse=True))\n",
        "\n",
        "plt.legend(patches, labels, loc='upper right', bbox_to_anchor=(-0.5, 1),\n",
        "           fontsize=20,title=\"Incident impact Individuals_affected portion from 2016-2020\")\n",
        "\n",
        "\n",
        "#plt.savefig('piechart.png', bbox_inches='tight')\n",
        "plt.show"
      ],
      "execution_count": null,
      "outputs": [
        {
          "output_type": "execute_result",
          "data": {
            "text/plain": [
              "<function matplotlib.pyplot.show>"
            ]
          },
          "metadata": {
            "tags": []
          },
          "execution_count": 125
        },
        {
          "output_type": "display_data",
          "data": {
            "image/png": "[encoded data removed]",
            "text/plain": [
              "<Figure size 432x288 with 1 Axes>"
            ]
          },
          "metadata": {
            "tags": []
          }
        }
      ]
    },
    {
      "cell_type": "code",
      "metadata": {
        "colab": {
          "base_uri": "https://localhost:8080/",
          "height": 397
        },
        "id": "Hty3TtwK38gq",
        "outputId": "995309ed-8add-4f7f-f77b-b6282ba2cd52"
      },
      "source": [
        "kkk=dframe.groupby(\"INC_TYPE\")['Houses_damaged'].sum()\n",
        "x=kkk.axes[0]\n",
        "y=kkk.values\n",
        "colors = ['yellowgreen','red','gold','lightskyblue','white','lightcoral','blue','pink', 'darkgreen','yellow','grey','violet','magenta','cyan']\n",
        "porcent = y\n",
        "\n",
        "patches, texts = plt.pie(y, colors=None, startangle=90, radius=2)\n",
        "labels = ['{0} - {1:1} '.format(i,j) for i,j in zip(x, porcent)]\n",
        "\n",
        "sort_legend = True\n",
        "if sort_legend:\n",
        "    patches, labels, dummy =  zip(*sorted(zip(patches, labels, y),\n",
        "                                          key=lambda x: x[2],\n",
        "                                          reverse=True))\n",
        "\n",
        "plt.legend(patches, labels, loc='upper right', bbox_to_anchor=(-0.5, 1),\n",
        "           fontsize=20,title=\"Incident impact Houses_damaged portion from 2016-2020\")\n",
        "\n",
        "\n",
        "#plt.savefig('piechart.png', bbox_inches='tight')\n",
        "plt.show"
      ],
      "execution_count": null,
      "outputs": [
        {
          "output_type": "execute_result",
          "data": {
            "text/plain": [
              "<function matplotlib.pyplot.show>"
            ]
          },
          "metadata": {
            "tags": []
          },
          "execution_count": 126
        },
        {
          "output_type": "display_data",
          "data": {
            "image/png": "[encoded data removed]",
            "text/plain": [
              "<Figure size 432x288 with 1 Axes>"
            ]
          },
          "metadata": {
            "tags": []
          }
        }
      ]
    },
    {
      "cell_type": "code",
      "metadata": {
        "colab": {
          "base_uri": "https://localhost:8080/",
          "height": 397
        },
        "id": "NUJVZ-R138st",
        "outputId": "271cb001-062a-4280-afde-602e18808dd1"
      },
      "source": [
        "kkk=dframe.groupby(\"INC_TYPE\")['Houses_destroyed'].sum()\n",
        "x=kkk.axes[0]\n",
        "y=kkk.values\n",
        "colors = ['yellowgreen','red','gold','lightskyblue','white','lightcoral','blue','pink', 'darkgreen','yellow','grey','violet','magenta','cyan']\n",
        "porcent = y\n",
        "\n",
        "patches, texts = plt.pie(y, colors=None, startangle=90, radius=2)\n",
        "labels = ['{0} - {1:1} '.format(i,j) for i,j in zip(x, porcent)]\n",
        "\n",
        "sort_legend = True\n",
        "if sort_legend:\n",
        "    patches, labels, dummy =  zip(*sorted(zip(patches, labels, y),\n",
        "                                          key=lambda x: x[2],\n",
        "                                          reverse=True))\n",
        "\n",
        "plt.legend(patches, labels, loc='upper right', bbox_to_anchor=(-0.5, 1),\n",
        "           fontsize=20,title=\"Incident impact Houses_destroyed portion from 2016-2020\")\n",
        "\n",
        "\n",
        "#plt.savefig('piechart.png', bbox_inches='tight')\n",
        "plt.show"
      ],
      "execution_count": null,
      "outputs": [
        {
          "output_type": "execute_result",
          "data": {
            "text/plain": [
              "<function matplotlib.pyplot.show>"
            ]
          },
          "metadata": {
            "tags": []
          },
          "execution_count": 127
        },
        {
          "output_type": "display_data",
          "data": {
            "image/png": "[encoded data removed]",
            "text/plain": [
              "<Figure size 432x288 with 1 Axes>"
            ]
          },
          "metadata": {
            "tags": []
          }
        }
      ]
    },
    {
      "cell_type": "markdown",
      "metadata": {
        "id": "7l9hH9_E5xxa"
      },
      "source": [
        "## Histogram monthly of Incident"
      ]
    },
    {
      "cell_type": "code",
      "metadata": {
        "id": "Gs-95wRPt4Sg",
        "colab": {
          "base_uri": "https://localhost:8080/",
          "height": 425
        },
        "outputId": "6ea5e639-ce05-4076-be24-632f84ea32af"
      },
      "source": [
        "dateInc=dframe[['INC_DATE','INC_TYPE']]\n",
        "dateInc"
      ],
      "execution_count": null,
      "outputs": [
        {
          "output_type": "execute_result",
          "data": {
            "text/html": [
              "<div>\n",
              "<style scoped>\n",
              "    .dataframe tbody tr th:only-of-type {\n",
              "        vertical-align: middle;\n",
              "    }\n",
              "\n",
              "    .dataframe tbody tr th {\n",
              "        vertical-align: top;\n",
              "    }\n",
              "\n",
              "    .dataframe thead th {\n",
              "        text-align: right;\n",
              "    }\n",
              "</style>\n",
              "<table border=\"1\" class=\"dataframe\">\n",
              "  <thead>\n",
              "    <tr style=\"text-align: right;\">\n",
              "      <th></th>\n",
              "      <th>INC_DATE</th>\n",
              "      <th>INC_TYPE</th>\n",
              "    </tr>\n",
              "  </thead>\n",
              "  <tbody>\n",
              "    <tr>\n",
              "      <th>0</th>\n",
              "      <td>11/03/2016</td>\n",
              "      <td>Flood / flash flood</td>\n",
              "    </tr>\n",
              "    <tr>\n",
              "      <th>1</th>\n",
              "      <td>11/03/2016</td>\n",
              "      <td>Flood / flash flood</td>\n",
              "    </tr>\n",
              "    <tr>\n",
              "      <th>2</th>\n",
              "      <td>16/04/2016</td>\n",
              "      <td>Flood / flash flood</td>\n",
              "    </tr>\n",
              "    <tr>\n",
              "      <th>3</th>\n",
              "      <td>16/04/2016</td>\n",
              "      <td>Flood / flash flood</td>\n",
              "    </tr>\n",
              "    <tr>\n",
              "      <th>4</th>\n",
              "      <td>17/04/2016</td>\n",
              "      <td>Flood / flash flood</td>\n",
              "    </tr>\n",
              "    <tr>\n",
              "      <th>...</th>\n",
              "      <td>...</td>\n",
              "      <td>...</td>\n",
              "    </tr>\n",
              "    <tr>\n",
              "      <th>2082</th>\n",
              "      <td>13/11/2020</td>\n",
              "      <td>Flood / flash flood</td>\n",
              "    </tr>\n",
              "    <tr>\n",
              "      <th>2083</th>\n",
              "      <td>15/11/2020</td>\n",
              "      <td>Flood / flash flood</td>\n",
              "    </tr>\n",
              "    <tr>\n",
              "      <th>2084</th>\n",
              "      <td>20/11/2020</td>\n",
              "      <td>Flood / flash flood</td>\n",
              "    </tr>\n",
              "    <tr>\n",
              "      <th>2085</th>\n",
              "      <td>20/11/2020</td>\n",
              "      <td>Flood / flash flood</td>\n",
              "    </tr>\n",
              "    <tr>\n",
              "      <th>2086</th>\n",
              "      <td>20/11/2020</td>\n",
              "      <td>Flood / flash flood</td>\n",
              "    </tr>\n",
              "  </tbody>\n",
              "</table>\n",
              "<p>2087 rows × 2 columns</p>\n",
              "</div>"
            ],
            "text/plain": [
              "        INC_DATE             INC_TYPE\n",
              "0     11/03/2016  Flood / flash flood\n",
              "1     11/03/2016  Flood / flash flood\n",
              "2     16/04/2016  Flood / flash flood\n",
              "3     16/04/2016  Flood / flash flood\n",
              "4     17/04/2016  Flood / flash flood\n",
              "...          ...                  ...\n",
              "2082  13/11/2020  Flood / flash flood\n",
              "2083  15/11/2020  Flood / flash flood\n",
              "2084  20/11/2020  Flood / flash flood\n",
              "2085  20/11/2020  Flood / flash flood\n",
              "2086  20/11/2020  Flood / flash flood\n",
              "\n",
              "[2087 rows x 2 columns]"
            ]
          },
          "metadata": {
            "tags": []
          },
          "execution_count": 27
        }
      ]
    },
    {
      "cell_type": "code",
      "metadata": {
        "id": "rLqA4nWU6dYh",
        "colab": {
          "base_uri": "https://localhost:8080/"
        },
        "outputId": "d74d966f-7d28-472e-93fa-ed290fa540b6"
      },
      "source": [
        "dateInc['INC_DATE']=dateInc['INC_DATE'].astype(\"datetime64\")"
      ],
      "execution_count": null,
      "outputs": [
        {
          "output_type": "stream",
          "text": [
            "/usr/local/lib/python3.6/dist-packages/ipykernel_launcher.py:1: SettingWithCopyWarning: \n",
            "A value is trying to be set on a copy of a slice from a DataFrame.\n",
            "Try using .loc[row_indexer,col_indexer] = value instead\n",
            "\n",
            "See the caveats in the documentation: https://pandas.pydata.org/pandas-docs/stable/user_guide/indexing.html#returning-a-view-versus-a-copy\n",
            "  \"\"\"Entry point for launching an IPython kernel.\n"
          ],
          "name": "stderr"
        }
      ]
    },
    {
      "cell_type": "code",
      "metadata": {
        "colab": {
          "base_uri": "https://localhost:8080/"
        },
        "id": "ynaWY_Fdskfq",
        "outputId": "ee70ae8a-c6f6-46b7-cdb8-2c425bb22779"
      },
      "source": [
        "dateInc['Flood / flash flood'] = 0\n",
        "dateInc['Heavy snowfall'] = 0\n",
        "dateInc['Avalacnche'] = 0\n",
        "dateInc['Landslide / mudflow'] = 0\n",
        "dateInc['Earthquake'] = 0"
      ],
      "execution_count": null,
      "outputs": [
        {
          "output_type": "stream",
          "text": [
            "/usr/local/lib/python3.6/dist-packages/ipykernel_launcher.py:1: SettingWithCopyWarning: \n",
            "A value is trying to be set on a copy of a slice from a DataFrame.\n",
            "Try using .loc[row_indexer,col_indexer] = value instead\n",
            "\n",
            "See the caveats in the documentation: https://pandas.pydata.org/pandas-docs/stable/user_guide/indexing.html#returning-a-view-versus-a-copy\n",
            "  \"\"\"Entry point for launching an IPython kernel.\n",
            "/usr/local/lib/python3.6/dist-packages/ipykernel_launcher.py:2: SettingWithCopyWarning: \n",
            "A value is trying to be set on a copy of a slice from a DataFrame.\n",
            "Try using .loc[row_indexer,col_indexer] = value instead\n",
            "\n",
            "See the caveats in the documentation: https://pandas.pydata.org/pandas-docs/stable/user_guide/indexing.html#returning-a-view-versus-a-copy\n",
            "  \n",
            "/usr/local/lib/python3.6/dist-packages/ipykernel_launcher.py:3: SettingWithCopyWarning: \n",
            "A value is trying to be set on a copy of a slice from a DataFrame.\n",
            "Try using .loc[row_indexer,col_indexer] = value instead\n",
            "\n",
            "See the caveats in the documentation: https://pandas.pydata.org/pandas-docs/stable/user_guide/indexing.html#returning-a-view-versus-a-copy\n",
            "  This is separate from the ipykernel package so we can avoid doing imports until\n",
            "/usr/local/lib/python3.6/dist-packages/ipykernel_launcher.py:4: SettingWithCopyWarning: \n",
            "A value is trying to be set on a copy of a slice from a DataFrame.\n",
            "Try using .loc[row_indexer,col_indexer] = value instead\n",
            "\n",
            "See the caveats in the documentation: https://pandas.pydata.org/pandas-docs/stable/user_guide/indexing.html#returning-a-view-versus-a-copy\n",
            "  after removing the cwd from sys.path.\n",
            "/usr/local/lib/python3.6/dist-packages/ipykernel_launcher.py:5: SettingWithCopyWarning: \n",
            "A value is trying to be set on a copy of a slice from a DataFrame.\n",
            "Try using .loc[row_indexer,col_indexer] = value instead\n",
            "\n",
            "See the caveats in the documentation: https://pandas.pydata.org/pandas-docs/stable/user_guide/indexing.html#returning-a-view-versus-a-copy\n",
            "  \"\"\"\n"
          ],
          "name": "stderr"
        }
      ]
    },
    {
      "cell_type": "code",
      "metadata": {
        "colab": {
          "base_uri": "https://localhost:8080/"
        },
        "id": "V7wyk3C5nVsr",
        "outputId": "8b0ad248-7d19-46b9-c452-527e266795e4"
      },
      "source": [
        "dateInc.loc[dateInc['INC_TYPE'] == 'Flood / flash flood', ['Flood / flash flood']] = 1\n",
        "dateInc.loc[dateInc['INC_TYPE'] == 'Heavy snowfall', ['Heavy snowfall']] = 1\n",
        "dateInc.loc[dateInc['INC_TYPE'] == 'Avalacnche', ['Avalacnche']] = 1\n",
        "dateInc.loc[dateInc['INC_TYPE'] == 'Landslide / mudflow', ['Landslide / mudflow']] = 1\n",
        "dateInc.loc[dateInc['INC_TYPE'] == 'Earthquake', ['Earthquake']] = 1"
      ],
      "execution_count": null,
      "outputs": [
        {
          "output_type": "stream",
          "text": [
            "/usr/local/lib/python3.6/dist-packages/pandas/core/indexing.py:1763: SettingWithCopyWarning: \n",
            "A value is trying to be set on a copy of a slice from a DataFrame.\n",
            "Try using .loc[row_indexer,col_indexer] = value instead\n",
            "\n",
            "See the caveats in the documentation: https://pandas.pydata.org/pandas-docs/stable/user_guide/indexing.html#returning-a-view-versus-a-copy\n",
            "  isetter(loc, value)\n"
          ],
          "name": "stderr"
        }
      ]
    },
    {
      "cell_type": "code",
      "metadata": {
        "colab": {
          "base_uri": "https://localhost:8080/",
          "height": 425
        },
        "id": "YSgTZnXIv6zk",
        "outputId": "6b4c0135-70c6-41d0-cd72-85209e3335b6"
      },
      "source": [
        "newdateInc=dateInc.drop(columns=['INC_TYPE'])\n",
        "newdateInc"
      ],
      "execution_count": null,
      "outputs": [
        {
          "output_type": "execute_result",
          "data": {
            "text/html": [
              "<div>\n",
              "<style scoped>\n",
              "    .dataframe tbody tr th:only-of-type {\n",
              "        vertical-align: middle;\n",
              "    }\n",
              "\n",
              "    .dataframe tbody tr th {\n",
              "        vertical-align: top;\n",
              "    }\n",
              "\n",
              "    .dataframe thead th {\n",
              "        text-align: right;\n",
              "    }\n",
              "</style>\n",
              "<table border=\"1\" class=\"dataframe\">\n",
              "  <thead>\n",
              "    <tr style=\"text-align: right;\">\n",
              "      <th></th>\n",
              "      <th>INC_DATE</th>\n",
              "      <th>Flood / flash flood</th>\n",
              "      <th>Heavy snowfall</th>\n",
              "      <th>Avalacnche</th>\n",
              "      <th>Landslide / mudflow</th>\n",
              "      <th>Earthquake</th>\n",
              "    </tr>\n",
              "  </thead>\n",
              "  <tbody>\n",
              "    <tr>\n",
              "      <th>0</th>\n",
              "      <td>2016-11-03</td>\n",
              "      <td>1</td>\n",
              "      <td>0</td>\n",
              "      <td>0</td>\n",
              "      <td>0</td>\n",
              "      <td>0</td>\n",
              "    </tr>\n",
              "    <tr>\n",
              "      <th>1</th>\n",
              "      <td>2016-11-03</td>\n",
              "      <td>1</td>\n",
              "      <td>0</td>\n",
              "      <td>0</td>\n",
              "      <td>0</td>\n",
              "      <td>0</td>\n",
              "    </tr>\n",
              "    <tr>\n",
              "      <th>2</th>\n",
              "      <td>2016-04-16</td>\n",
              "      <td>1</td>\n",
              "      <td>0</td>\n",
              "      <td>0</td>\n",
              "      <td>0</td>\n",
              "      <td>0</td>\n",
              "    </tr>\n",
              "    <tr>\n",
              "      <th>3</th>\n",
              "      <td>2016-04-16</td>\n",
              "      <td>1</td>\n",
              "      <td>0</td>\n",
              "      <td>0</td>\n",
              "      <td>0</td>\n",
              "      <td>0</td>\n",
              "    </tr>\n",
              "    <tr>\n",
              "      <th>4</th>\n",
              "      <td>2016-04-17</td>\n",
              "      <td>1</td>\n",
              "      <td>0</td>\n",
              "      <td>0</td>\n",
              "      <td>0</td>\n",
              "      <td>0</td>\n",
              "    </tr>\n",
              "    <tr>\n",
              "      <th>...</th>\n",
              "      <td>...</td>\n",
              "      <td>...</td>\n",
              "      <td>...</td>\n",
              "      <td>...</td>\n",
              "      <td>...</td>\n",
              "      <td>...</td>\n",
              "    </tr>\n",
              "    <tr>\n",
              "      <th>2082</th>\n",
              "      <td>2020-11-13</td>\n",
              "      <td>1</td>\n",
              "      <td>0</td>\n",
              "      <td>0</td>\n",
              "      <td>0</td>\n",
              "      <td>0</td>\n",
              "    </tr>\n",
              "    <tr>\n",
              "      <th>2083</th>\n",
              "      <td>2020-11-15</td>\n",
              "      <td>1</td>\n",
              "      <td>0</td>\n",
              "      <td>0</td>\n",
              "      <td>0</td>\n",
              "      <td>0</td>\n",
              "    </tr>\n",
              "    <tr>\n",
              "      <th>2084</th>\n",
              "      <td>2020-11-20</td>\n",
              "      <td>1</td>\n",
              "      <td>0</td>\n",
              "      <td>0</td>\n",
              "      <td>0</td>\n",
              "      <td>0</td>\n",
              "    </tr>\n",
              "    <tr>\n",
              "      <th>2085</th>\n",
              "      <td>2020-11-20</td>\n",
              "      <td>1</td>\n",
              "      <td>0</td>\n",
              "      <td>0</td>\n",
              "      <td>0</td>\n",
              "      <td>0</td>\n",
              "    </tr>\n",
              "    <tr>\n",
              "      <th>2086</th>\n",
              "      <td>2020-11-20</td>\n",
              "      <td>1</td>\n",
              "      <td>0</td>\n",
              "      <td>0</td>\n",
              "      <td>0</td>\n",
              "      <td>0</td>\n",
              "    </tr>\n",
              "  </tbody>\n",
              "</table>\n",
              "<p>2087 rows × 6 columns</p>\n",
              "</div>"
            ],
            "text/plain": [
              "       INC_DATE  Flood / flash flood  ...  Landslide / mudflow  Earthquake\n",
              "0    2016-11-03                    1  ...                    0           0\n",
              "1    2016-11-03                    1  ...                    0           0\n",
              "2    2016-04-16                    1  ...                    0           0\n",
              "3    2016-04-16                    1  ...                    0           0\n",
              "4    2016-04-17                    1  ...                    0           0\n",
              "...         ...                  ...  ...                  ...         ...\n",
              "2082 2020-11-13                    1  ...                    0           0\n",
              "2083 2020-11-15                    1  ...                    0           0\n",
              "2084 2020-11-20                    1  ...                    0           0\n",
              "2085 2020-11-20                    1  ...                    0           0\n",
              "2086 2020-11-20                    1  ...                    0           0\n",
              "\n",
              "[2087 rows x 6 columns]"
            ]
          },
          "metadata": {
            "tags": []
          },
          "execution_count": 59
        }
      ]
    },
    {
      "cell_type": "markdown",
      "metadata": {
        "id": "1dGtyXPolmvl"
      },
      "source": [
        "### All type of incident"
      ]
    },
    {
      "cell_type": "code",
      "metadata": {
        "colab": {
          "base_uri": "https://localhost:8080/",
          "height": 510
        },
        "id": "5z8M2WalxLTn",
        "outputId": "bc0c654f-eac9-40b8-f8f4-eb2599b1a152"
      },
      "source": [
        "newdateInc['month'] = pd.to_datetime(newdateInc['INC_DATE']).dt.to_period('Y')\n",
        "newdateInc.groupby('month')['Flood / flash flood','Heavy snowfall','Avalacnche','Landslide / mudflow','Earthquake'].sum().plot(kind=\"bar\",figsize=(40,7))"
      ],
      "execution_count": null,
      "outputs": [
        {
          "output_type": "stream",
          "text": [
            "/usr/local/lib/python3.6/dist-packages/ipykernel_launcher.py:2: FutureWarning: Indexing with multiple keys (implicitly converted to a tuple of keys) will be deprecated, use a list instead.\n",
            "  \n"
          ],
          "name": "stderr"
        },
        {
          "output_type": "execute_result",
          "data": {
            "text/plain": [
              "<matplotlib.axes._subplots.AxesSubplot at 0x7fb69a3db588>"
            ]
          },
          "metadata": {
            "tags": []
          },
          "execution_count": 78
        },
        {
          "output_type": "display_data",
          "data": {
            "image/png": "[encoded data removed]",
            "text/plain": [
              "<Figure size 2880x504 with 1 Axes>"
            ]
          },
          "metadata": {
            "tags": [],
            "needs_background": "light"
          }
        }
      ]
    },
    {
      "cell_type": "code",
      "metadata": {
        "colab": {
          "base_uri": "https://localhost:8080/",
          "height": 526
        },
        "id": "D-ctvzFKlrsa",
        "outputId": "0097585f-f4da-47e1-debb-22f36bf834d4"
      },
      "source": [
        "newdateInc['month'] = pd.to_datetime(newdateInc['INC_DATE']).dt.to_period('M')\n",
        "newdateInc.groupby('month')['Flood / flash flood','Heavy snowfall','Avalacnche','Landslide / mudflow','Earthquake'].sum().plot(kind=\"bar\",figsize=(40,7))"
      ],
      "execution_count": null,
      "outputs": [
        {
          "output_type": "stream",
          "text": [
            "/usr/local/lib/python3.6/dist-packages/ipykernel_launcher.py:1: FutureWarning: Indexing with multiple keys (implicitly converted to a tuple of keys) will be deprecated, use a list instead.\n",
            "  \"\"\"Entry point for launching an IPython kernel.\n"
          ],
          "name": "stderr"
        },
        {
          "output_type": "execute_result",
          "data": {
            "text/plain": [
              "<matplotlib.axes._subplots.AxesSubplot at 0x7fb69a88e9b0>"
            ]
          },
          "metadata": {
            "tags": []
          },
          "execution_count": 77
        },
        {
          "output_type": "display_data",
          "data": {
            "image/png": "[encoded data removed]",
            "text/plain": [
              "<Figure size 2880x504 with 1 Axes>"
            ]
          },
          "metadata": {
            "tags": [],
            "needs_background": "light"
          }
        }
      ]
    }
  ]
}